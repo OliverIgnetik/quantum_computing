{
 "cells": [
  {
   "cell_type": "code",
   "execution_count": 122,
   "id": "2c6172e4",
   "metadata": {},
   "outputs": [],
   "source": [
    "import pandas as pd, numpy as np, matplotlib.pyplot as plt"
   ]
  },
  {
   "cell_type": "code",
   "execution_count": 123,
   "id": "4c985de4",
   "metadata": {},
   "outputs": [],
   "source": [
    "from pathlib import Path"
   ]
  },
  {
   "cell_type": "code",
   "execution_count": 124,
   "id": "af59b81a",
   "metadata": {},
   "outputs": [],
   "source": [
    "path = Path('/Users/olli/Desktop/Programming/Python/scripts/physics')"
   ]
  },
  {
   "cell_type": "markdown",
   "id": "52f632ff",
   "metadata": {},
   "source": [
    "# IBM QUANTUM COMPUTING FIELD GUIDE NOTES\n",
    "\n",
    "References: https://quantum-computing.ibm.com/composer/docs/guide/ \n",
    "\n",
    "## PRINCIPLES \n",
    "\n",
    "1. A physical system in a definite state can still behave randomly.\n",
    "\n",
    "2. Two systems that are too far apart to influence each other can nevertheless behave in ways that, though individually random, are somehow strongly correlated\n",
    "\n",
    "A quantum computer takes advantage of a special kind of superposition that allows for exponentially many logical states at once\n",
    "\n",
    "The vast majority of quantum superpositions, and the ones most useful for quantum computation, are **entangled**. **Entangled states** are states of the whole computer that do not correspond to any assignment of digital or analog states of the individual qubits. "
   ]
  },
  {
   "cell_type": "markdown",
   "id": "f110d673",
   "metadata": {},
   "source": [
    "## Notes \n",
    "\n",
    "05/05/21\n",
    "* Remember to use the **inspect option** in the Quantum Composer to investigate the state vector progressing through the quantum circuit.\n",
    "\n",
    "06/05/21\n",
    "* https://quantum-computing.ibm.com/composer/docs/iqx/operations_glossary glossary of quantum gates\n",
    "* The phase disk gives the local state of each qubit at the end of computation\n",
    "* Up to Entanglement section in field guide"
   ]
  },
  {
   "cell_type": "markdown",
   "id": "d549bcec",
   "metadata": {},
   "source": [
    "___\n",
    "# Qubits and states"
   ]
  },
  {
   "cell_type": "code",
   "execution_count": 125,
   "id": "b4280f93",
   "metadata": {},
   "outputs": [],
   "source": [
    "from qiskit import QuantumRegister, ClassicalRegister, QuantumCircuit, BasicAer, execute\n",
    "from qiskit.visualization import plot_histogram\n",
    "from numpy import pi"
   ]
  },
  {
   "cell_type": "code",
   "execution_count": 126,
   "id": "917d5821",
   "metadata": {},
   "outputs": [],
   "source": [
    "## first quantum circuit observing qubit in |0> state\n",
    "\n",
    "qreg_q = QuantumRegister(1, 'q')\n",
    "creg_c = ClassicalRegister(1, 'c')\n",
    "circuit = QuantumCircuit(qreg_q, creg_c)"
   ]
  },
  {
   "cell_type": "code",
   "execution_count": 127,
   "id": "ca098add",
   "metadata": {},
   "outputs": [
    {
     "data": {
      "text/plain": [
       "<qiskit.circuit.instructionset.InstructionSet at 0x200d3484be0>"
      ]
     },
     "execution_count": 127,
     "metadata": {},
     "output_type": "execute_result"
    }
   ],
   "source": [
    "circuit.reset(qreg_q[0])\n",
    "circuit.measure(qreg_q[0], creg_c[0])"
   ]
  },
  {
   "cell_type": "code",
   "execution_count": 128,
   "id": "d5ea2972",
   "metadata": {},
   "outputs": [
    {
     "data": {
      "text/html": [
       "<pre style=\"word-wrap: normal;white-space: pre;background: #fff0;line-height: 1.1;font-family: &quot;Courier New&quot;,Courier,monospace\">          ┌─┐\n",
       "q_0: ─|0>─┤M├\n",
       "          └╥┘\n",
       "c: 1/══════╩═\n",
       "           0 </pre>"
      ],
      "text/plain": [
       "          ┌─┐\n",
       "q_0: ─|0>─┤M├\n",
       "          └╥┘\n",
       "c: 1/══════╩═\n",
       "           0 "
      ]
     },
     "execution_count": 128,
     "metadata": {},
     "output_type": "execute_result"
    }
   ],
   "source": [
    "circuit.draw()"
   ]
  },
  {
   "cell_type": "code",
   "execution_count": 129,
   "id": "d4d3867c",
   "metadata": {},
   "outputs": [
    {
     "data": {
      "image/png": "[encoded data removed]",
      "text/plain": [
       "<Figure size 504x360 with 1 Axes>"
      ]
     },
     "execution_count": 129,
     "metadata": {},
     "output_type": "execute_result"
    }
   ],
   "source": [
    "# getting the backend simulator and plotting\n",
    "backend = BasicAer.get_backend('qasm_simulator')\n",
    "job = execute(circuit, backend)\n",
    "plot_histogram(job.result().get_counts(), color='midnightblue', title=\"Ground state\")"
   ]
  },
  {
   "cell_type": "markdown",
   "id": "3c1dd255",
   "metadata": {},
   "source": [
    "## X NOT GATE"
   ]
  },
  {
   "cell_type": "code",
   "execution_count": 130,
   "id": "a0d9e7d5",
   "metadata": {},
   "outputs": [],
   "source": [
    "# bit flip circuit\n",
    "qreg_q = QuantumRegister(1, 'q')\n",
    "creg_c = ClassicalRegister(1, 'c')\n",
    "circuit = QuantumCircuit(qreg_q, creg_c)"
   ]
  },
  {
   "cell_type": "code",
   "execution_count": 131,
   "id": "5058d0db",
   "metadata": {},
   "outputs": [
    {
     "data": {
      "text/html": [
       "<pre style=\"word-wrap: normal;white-space: pre;background: #fff0;line-height: 1.1;font-family: &quot;Courier New&quot;,Courier,monospace\">          ┌───┐┌─┐\n",
       "q_0: ─|0>─┤ X ├┤M├\n",
       "          └───┘└╥┘\n",
       "c: 1/═══════════╩═\n",
       "                0 </pre>"
      ],
      "text/plain": [
       "          ┌───┐┌─┐\n",
       "q_0: ─|0>─┤ X ├┤M├\n",
       "          └───┘└╥┘\n",
       "c: 1/═══════════╩═\n",
       "                0 "
      ]
     },
     "execution_count": 131,
     "metadata": {},
     "output_type": "execute_result"
    }
   ],
   "source": [
    "circuit.reset(qreg_q[0])\n",
    "circuit.x(qreg_q[0])\n",
    "circuit.measure(qreg_q[0], creg_c[0])\n",
    "circuit.draw()"
   ]
  },
  {
   "cell_type": "code",
   "execution_count": 132,
   "id": "901ccf07",
   "metadata": {},
   "outputs": [
    {
     "data": {
      "image/png": "[encoded data removed]",
      "text/plain": [
       "<Figure size 504x360 with 1 Axes>"
      ]
     },
     "execution_count": 132,
     "metadata": {},
     "output_type": "execute_result"
    }
   ],
   "source": [
    "backend = BasicAer.get_backend('qasm_simulator')\n",
    "job = execute(circuit, backend)\n",
    "plot_histogram(job.result().get_counts(), color='midnightblue', title=\"Bit flip\")"
   ]
  },
  {
   "cell_type": "markdown",
   "id": "7a011545",
   "metadata": {},
   "source": [
    "___\n",
    "# Creating superposition and going beyond classical computers\n",
    "\n",
    "* Reference: https://quantum-computing.ibm.com/composer/docs/guide/creating-superpositions\n",
    "* Quantum logic gates: https://en.wikipedia.org/wiki/Quantum_logic_gate\n",
    "* Hadamard product: https://en.wikipedia.org/wiki/Hadamard_product_(matrices)\n",
    "* Logic gates and operations: https://quantum-computing.ibm.com/composer/docs/iqx/operations_glossary\n",
    "\n",
    "Hadamard gates can be used to create superpositions of states."
   ]
  },
  {
   "cell_type": "code",
   "execution_count": 133,
   "id": "9e5b6fcb",
   "metadata": {},
   "outputs": [],
   "source": [
    "# hadamard gate acting on |0> \n",
    "qreg_q = QuantumRegister(1, 'q')\n",
    "creg_c = ClassicalRegister(1, 'c')\n",
    "circuit = QuantumCircuit(qreg_q, creg_c)"
   ]
  },
  {
   "cell_type": "code",
   "execution_count": 134,
   "id": "bae86117",
   "metadata": {},
   "outputs": [
    {
     "data": {
      "text/html": [
       "<pre style=\"word-wrap: normal;white-space: pre;background: #fff0;line-height: 1.1;font-family: &quot;Courier New&quot;,Courier,monospace\">          ┌───┐┌─┐\n",
       "q_0: ─|0>─┤ H ├┤M├\n",
       "          └───┘└╥┘\n",
       "c: 1/═══════════╩═\n",
       "                0 </pre>"
      ],
      "text/plain": [
       "          ┌───┐┌─┐\n",
       "q_0: ─|0>─┤ H ├┤M├\n",
       "          └───┘└╥┘\n",
       "c: 1/═══════════╩═\n",
       "                0 "
      ]
     },
     "execution_count": 134,
     "metadata": {},
     "output_type": "execute_result"
    }
   ],
   "source": [
    "circuit.reset(qreg_q[0])\n",
    "circuit.h(qreg_q[0])\n",
    "circuit.measure(qreg_q[0], creg_c[0])\n",
    "circuit.draw()"
   ]
  },
  {
   "cell_type": "code",
   "execution_count": 135,
   "id": "5ba3f54b",
   "metadata": {},
   "outputs": [
    {
     "data": {
      "image/png": "[encoded data removed]",
      "text/plain": [
       "<Figure size 504x360 with 1 Axes>"
      ]
     },
     "execution_count": 135,
     "metadata": {},
     "output_type": "execute_result"
    }
   ],
   "source": [
    "backend = BasicAer.get_backend('qasm_simulator')\n",
    "job = execute(circuit, backend)\n",
    "plot_histogram(job.result().get_counts(), color='midnightblue', title=\"Superposition\")"
   ]
  },
  {
   "cell_type": "markdown",
   "id": "02119502",
   "metadata": {},
   "source": [
    "## Visualizing the state vector"
   ]
  },
  {
   "cell_type": "code",
   "execution_count": 136,
   "id": "12325451",
   "metadata": {},
   "outputs": [
    {
     "data": {
      "text/plain": [
       "<qiskit.circuit.instructionset.InstructionSet at 0x200d34fabe0>"
      ]
     },
     "execution_count": 136,
     "metadata": {},
     "output_type": "execute_result"
    }
   ],
   "source": [
    "# using the qsphere to visualize the state vector on a simple quantum circuit\n",
    "from qiskit.quantum_info import Statevector\n",
    "from qiskit.visualization import plot_state_qsphere\n",
    "\n",
    "qreg_q = QuantumRegister(1, 'q')\n",
    "\n",
    "qc = QuantumCircuit(qreg_q)\n",
    "qc.h(qreg_q[0])"
   ]
  },
  {
   "cell_type": "code",
   "execution_count": 137,
   "id": "a82e51df",
   "metadata": {},
   "outputs": [
    {
     "data": {
      "text/html": [
       "<pre style=\"word-wrap: normal;white-space: pre;background: #fff0;line-height: 1.1;font-family: &quot;Courier New&quot;,Courier,monospace\">     ┌───┐\n",
       "q_0: ┤ H ├\n",
       "     └───┘</pre>"
      ],
      "text/plain": [
       "     ┌───┐\n",
       "q_0: ┤ H ├\n",
       "     └───┘"
      ]
     },
     "execution_count": 137,
     "metadata": {},
     "output_type": "execute_result"
    }
   ],
   "source": [
    "qc.draw()"
   ]
  },
  {
   "cell_type": "code",
   "execution_count": 138,
   "id": "4b5fe63d",
   "metadata": {},
   "outputs": [
    {
     "data": {
      "image/png": "[encoded data removed]",
      "text/plain": [
       "<Figure size 504x504 with 2 Axes>"
      ]
     },
     "execution_count": 138,
     "metadata": {},
     "output_type": "execute_result"
    }
   ],
   "source": [
    "state = Statevector.from_instruction(qc)\n",
    "plot_state_qsphere(state)"
   ]
  },
  {
   "cell_type": "markdown",
   "id": "66a1117a",
   "metadata": {},
   "source": [
    "## HADAMARD GATE"
   ]
  },
  {
   "cell_type": "code",
   "execution_count": 139,
   "id": "8abd31f0",
   "metadata": {},
   "outputs": [
    {
     "data": {
      "text/plain": [
       "<qiskit.circuit.instructionset.InstructionSet at 0x200d36cff10>"
      ]
     },
     "execution_count": 139,
     "metadata": {},
     "output_type": "execute_result"
    }
   ],
   "source": [
    "# hadamard gate acting on |1>\n",
    "\n",
    "qreg_q = QuantumRegister(1, 'q')\n",
    "creg_c = ClassicalRegister(1, 'c')\n",
    "circuit = QuantumCircuit(qreg_q, creg_c)\n",
    "\n",
    "circuit.reset(qreg_q[0])\n",
    "circuit.x(qreg_q[0])\n",
    "circuit.barrier(qreg_q[0])\n",
    "circuit.h(qreg_q[0])\n",
    "circuit.measure(qreg_q[0], creg_c[0])"
   ]
  },
  {
   "cell_type": "code",
   "execution_count": 140,
   "id": "c3e7f812",
   "metadata": {},
   "outputs": [
    {
     "data": {
      "text/html": [
       "<pre style=\"word-wrap: normal;white-space: pre;background: #fff0;line-height: 1.1;font-family: &quot;Courier New&quot;,Courier,monospace\">          ┌───┐ ░ ┌───┐┌─┐\n",
       "q_0: ─|0>─┤ X ├─░─┤ H ├┤M├\n",
       "          └───┘ ░ └───┘└╥┘\n",
       "c: 1/═══════════════════╩═\n",
       "                        0 </pre>"
      ],
      "text/plain": [
       "          ┌───┐ ░ ┌───┐┌─┐\n",
       "q_0: ─|0>─┤ X ├─░─┤ H ├┤M├\n",
       "          └───┘ ░ └───┘└╥┘\n",
       "c: 1/═══════════════════╩═\n",
       "                        0 "
      ]
     },
     "execution_count": 140,
     "metadata": {},
     "output_type": "execute_result"
    }
   ],
   "source": [
    "circuit.draw()"
   ]
  },
  {
   "cell_type": "code",
   "execution_count": 141,
   "id": "19ee7794",
   "metadata": {},
   "outputs": [
    {
     "data": {
      "image/png": "[encoded data removed]",
      "text/plain": [
       "<Figure size 504x360 with 1 Axes>"
      ]
     },
     "execution_count": 141,
     "metadata": {},
     "output_type": "execute_result"
    }
   ],
   "source": [
    "backend = BasicAer.get_backend('qasm_simulator')\n",
    "job = execute(circuit, backend)\n",
    "plot_histogram(job.result().get_counts(), color='midnightblue', title=\"Superposition bit flip\")"
   ]
  },
  {
   "cell_type": "markdown",
   "id": "3f48a45b",
   "metadata": {},
   "source": [
    "## Interference of superpositions"
   ]
  },
  {
   "cell_type": "code",
   "execution_count": 142,
   "id": "b4369f5f",
   "metadata": {},
   "outputs": [
    {
     "data": {
      "text/plain": [
       "<qiskit.circuit.instructionset.InstructionSet at 0x200d36b42b0>"
      ]
     },
     "execution_count": 142,
     "metadata": {},
     "output_type": "execute_result"
    }
   ],
   "source": [
    "# putting the circuits back to back will erase the randomness due to the fact that H*H = I \n",
    "\n",
    "qreg_q = QuantumRegister(1, 'q')\n",
    "creg_c = ClassicalRegister(1, 'c')\n",
    "circuit = QuantumCircuit(qreg_q, creg_c)\n",
    "\n",
    "circuit.reset(qreg_q[0])\n",
    "circuit.h(qreg_q[0])\n",
    "circuit.barrier(qreg_q[0])\n",
    "circuit.h(qreg_q[0])\n",
    "circuit.measure(qreg_q[0], creg_c[0])"
   ]
  },
  {
   "cell_type": "code",
   "execution_count": 143,
   "id": "1f428778",
   "metadata": {},
   "outputs": [
    {
     "data": {
      "text/html": [
       "<pre style=\"word-wrap: normal;white-space: pre;background: #fff0;line-height: 1.1;font-family: &quot;Courier New&quot;,Courier,monospace\">          ┌───┐ ░ ┌───┐┌─┐\n",
       "q_0: ─|0>─┤ H ├─░─┤ H ├┤M├\n",
       "          └───┘ ░ └───┘└╥┘\n",
       "c: 1/═══════════════════╩═\n",
       "                        0 </pre>"
      ],
      "text/plain": [
       "          ┌───┐ ░ ┌───┐┌─┐\n",
       "q_0: ─|0>─┤ H ├─░─┤ H ├┤M├\n",
       "          └───┘ ░ └───┘└╥┘\n",
       "c: 1/═══════════════════╩═\n",
       "                        0 "
      ]
     },
     "execution_count": 143,
     "metadata": {},
     "output_type": "execute_result"
    }
   ],
   "source": [
    "circuit.draw()"
   ]
  },
  {
   "cell_type": "code",
   "execution_count": 144,
   "id": "91fb0ca0",
   "metadata": {},
   "outputs": [
    {
     "data": {
      "image/png": "[encoded data removed]",
      "text/plain": [
       "<Figure size 504x360 with 1 Axes>"
      ]
     },
     "execution_count": 144,
     "metadata": {},
     "output_type": "execute_result"
    }
   ],
   "source": [
    "backend = BasicAer.get_backend('qasm_simulator')\n",
    "job = execute(circuit, backend)\n",
    "plot_histogram(job.result().get_counts(), color='midnightblue', title=\"Back to back circuits\")"
   ]
  },
  {
   "cell_type": "markdown",
   "id": "37cbdcec",
   "metadata": {},
   "source": [
    "### Explaining the results\n",
    "\n",
    "The Hadamard operator can be described as:\n",
    "$$\n",
    "H = \\frac{1}{\\sqrt2}\n",
    "\\begin{pmatrix}\n",
    "1 & 1 \\\\\n",
    "1 & -1\n",
    "\\end{pmatrix}\n",
    "$$\n",
    "\n",
    "Hadamard gate acting on $|0>$: \n",
    "$$ H|0> = \\frac{1}{\\sqrt2} (|0> + |1>)$$\n",
    "Hadamard gate acting on $|1>$: \n",
    "$$ H|1> = \\frac{1}{\\sqrt2}(|0> - |1>)$$\n",
    "\n",
    "Effectively the second Hadamard gate acts on the output of the first Hadamard gate and the $|1>$ basis vector vanishes from the sum. \n",
    "\n",
    "**OR**\n",
    "\n",
    "We can just calculate $H*H$: \n",
    "\n",
    "$$\n",
    "H*H = \\frac{1}{\\sqrt2}\n",
    "\\begin{pmatrix}\n",
    "1 & 1 \\\\\n",
    "1 & -1\n",
    "\\end{pmatrix}\n",
    "\\frac{1}{\\sqrt2}\n",
    "\\begin{pmatrix}\n",
    "1 & 1 \\\\\n",
    "1 & -1\n",
    "\\end{pmatrix}\n",
    "= \\begin{pmatrix}\n",
    "1 & 0 \\\\\n",
    "0 & 1\n",
    "\\end{pmatrix}\n",
    "$$\n",
    "\n",
    "Reference **Born Rule** for wave function and probability amplitudes: https://en.wikipedia.org/wiki/Born_rule"
   ]
  },
  {
   "cell_type": "markdown",
   "id": "0ec5e7b4",
   "metadata": {},
   "source": [
    "### Visualizing the state vector for the combination of both circuits"
   ]
  },
  {
   "cell_type": "code",
   "execution_count": 145,
   "id": "272f5247",
   "metadata": {},
   "outputs": [
    {
     "data": {
      "text/plain": [
       "<qiskit.circuit.instructionset.InstructionSet at 0x200d36f2b50>"
      ]
     },
     "execution_count": 145,
     "metadata": {},
     "output_type": "execute_result"
    }
   ],
   "source": [
    "# using the qsphere to visualize the state vector on a simple quantum circuit\n",
    "from qiskit.quantum_info import Statevector\n",
    "from qiskit.visualization import plot_state_qsphere\n",
    "\n",
    "qreg_q = QuantumRegister(1, 'q')\n",
    "\n",
    "qc = QuantumCircuit(qreg_q)\n",
    "qc.h(qreg_q[0])\n",
    "qc.barrier(qreg_q[0])\n",
    "qc.h(qreg_q[0])"
   ]
  },
  {
   "cell_type": "code",
   "execution_count": 146,
   "id": "d7405a9e",
   "metadata": {},
   "outputs": [
    {
     "data": {
      "text/html": [
       "<pre style=\"word-wrap: normal;white-space: pre;background: #fff0;line-height: 1.1;font-family: &quot;Courier New&quot;,Courier,monospace\">     ┌───┐ ░ ┌───┐\n",
       "q_0: ┤ H ├─░─┤ H ├\n",
       "     └───┘ ░ └───┘</pre>"
      ],
      "text/plain": [
       "     ┌───┐ ░ ┌───┐\n",
       "q_0: ┤ H ├─░─┤ H ├\n",
       "     └───┘ ░ └───┘"
      ]
     },
     "execution_count": 146,
     "metadata": {},
     "output_type": "execute_result"
    }
   ],
   "source": [
    "qc.draw()"
   ]
  },
  {
   "cell_type": "code",
   "execution_count": 147,
   "id": "3ebb3547",
   "metadata": {},
   "outputs": [
    {
     "data": {
      "image/png": "[encoded data removed]",
      "text/plain": [
       "<Figure size 504x504 with 2 Axes>"
      ]
     },
     "execution_count": 147,
     "metadata": {},
     "output_type": "execute_result"
    }
   ],
   "source": [
    "# we can see that the state vector is only pointed along |0> \n",
    "state = Statevector.from_instruction(qc)\n",
    "plot_state_qsphere(state)"
   ]
  },
  {
   "cell_type": "markdown",
   "id": "b0c60043",
   "metadata": {},
   "source": [
    "___\n",
    "# Quantum Phase\n",
    "\n",
    "General single-qubit quantum state is represented by a 2D vector space over the complex numbers $\\mathbf{C}^2$: \n",
    "\n",
    "$$|\\psi> = \\alpha |0> + \\beta |1>$$ \n",
    "\n",
    "With the assumptions:\n",
    "\n",
    "* $|\\alpha|^2 + |\\beta|^2 = 1$\n",
    "* The probability of obtaining $|0>$ is $|\\alpha|^2$\n",
    "* The probability of obtaining $|1>$ is $|\\beta|^2$\n",
    "* Phase ambiguity $e^{i\\phi}$\n",
    "\n",
    "We can rewrite the single qubit phase as: \n",
    "\n",
    "$$|\\psi> = \\sqrt{1-p} |0> + e^{i\\phi}\\sqrt{p} |1>$$ \n",
    "\n",
    "\n",
    "**Reference for phase operations** in QISKIT: https://quantum-computing.ibm.com/composer/docs/iqx/visualizations#phase-disk\n",
    "\n",
    "The quantum composer has a number of phase shift gates such as: \n",
    "\n",
    "![image](md_images/phase_gates.png)"
   ]
  },
  {
   "cell_type": "code",
   "execution_count": 148,
   "id": "16e5ea04",
   "metadata": {},
   "outputs": [
    {
     "data": {
      "text/plain": [
       "<qiskit.circuit.instructionset.InstructionSet at 0x200d36cf3a0>"
      ]
     },
     "execution_count": 148,
     "metadata": {},
     "output_type": "execute_result"
    }
   ],
   "source": [
    "# example of different phase applied to superposition state\n",
    "from qiskit import QuantumRegister, ClassicalRegister, QuantumCircuit\n",
    "from numpy import pi\n",
    "\n",
    "qreg_q = QuantumRegister(1, 'q')\n",
    "creg_c = ClassicalRegister(1, 'c')\n",
    "circuit = QuantumCircuit(qreg_q, creg_c)\n",
    "\n",
    "circuit.reset(qreg_q[0])\n",
    "circuit.h(qreg_q[0])\n",
    "circuit.t(qreg_q[0])"
   ]
  },
  {
   "cell_type": "code",
   "execution_count": 149,
   "id": "699a5acf",
   "metadata": {},
   "outputs": [
    {
     "data": {
      "text/html": [
       "<pre style=\"word-wrap: normal;white-space: pre;background: #fff0;line-height: 1.1;font-family: &quot;Courier New&quot;,Courier,monospace\">          ┌───┐┌───┐\n",
       "q_0: ─|0>─┤ H ├┤ T ├\n",
       "          └───┘└───┘\n",
       "c: 1/═══════════════\n",
       "                    </pre>"
      ],
      "text/plain": [
       "          ┌───┐┌───┐\n",
       "q_0: ─|0>─┤ H ├┤ T ├\n",
       "          └───┘└───┘\n",
       "c: 1/═══════════════\n",
       "                    "
      ]
     },
     "execution_count": 149,
     "metadata": {},
     "output_type": "execute_result"
    }
   ],
   "source": [
    "circuit.draw()"
   ]
  },
  {
   "cell_type": "code",
   "execution_count": 150,
   "id": "bb455632",
   "metadata": {},
   "outputs": [
    {
     "data": {
      "image/png": "[encoded data removed]",
      "text/plain": [
       "<Figure size 504x504 with 2 Axes>"
      ]
     },
     "execution_count": 150,
     "metadata": {},
     "output_type": "execute_result"
    }
   ],
   "source": [
    "# we can see that the phase is more general \n",
    "state = Statevector.from_instruction(circuit)\n",
    "plot_state_qsphere(state, show_state_phases=True)"
   ]
  },
  {
   "cell_type": "markdown",
   "id": "71f0cc62",
   "metadata": {},
   "source": [
    "## Ramsey X Circuit\n",
    "\n",
    "The image below is a schematic of the **Ramsey X  Quantum Circuit**: \n",
    "\n",
    "![image](md_images/ramsey_x.png)\n",
    "\n",
    "\n",
    "By applying a general phase shift gate of the form: \n",
    "\n",
    "$$\n",
    "P(\\phi) = \\begin{pmatrix}\n",
    "1 & 0 \\\\\n",
    "0 & e^{j \\phi}\n",
    "\\end{pmatrix}\n",
    "$$\n",
    "\n",
    "to the superposition state output from the Hadamard gate we obtain the state: \n",
    "\n",
    "$$|\\psi> = \\frac{1}{\\sqrt{2}} (|0> + e^{i\\phi}|1>)$$ \n",
    "\n",
    "Then when we apply the second Hadamard gate the state is interfered back to: \n",
    "\n",
    "$$|\\psi> = \\frac{1}{2} ( (1+e^{i\\phi})|0> + (1-e^{i\\phi})|1>)$$ \n",
    "\n",
    "Thus via the Born rule we obtain the probabilities: \n",
    "\n",
    "$$\n",
    "p_0 = \\frac{1}{2}(1+ cos(\\phi))\n",
    "\\newline\n",
    "p_1 = \\frac{1}{2}(1-cos(\\phi))\n",
    "$$\n",
    "\n",
    "and we define the difference: \n",
    "\n",
    "$$\n",
    "d = p_0 - p_1\n",
    "$$\n",
    "\n",
    "Which is the real part of $e^{j\\phi}$: \n",
    "\n",
    "$$\n",
    "\\begin{align*} \n",
    "x &=  d \\\\ \n",
    " &=  cos(\\phi) \\\\ \n",
    " &=  \\Re[e^{j\\phi}]\n",
    "\\end{align*}\n",
    "$$"
   ]
  },
  {
   "cell_type": "code",
   "execution_count": 151,
   "id": "12dacd88",
   "metadata": {},
   "outputs": [
    {
     "data": {
      "text/plain": [
       "<qiskit.circuit.instructionset.InstructionSet at 0x200d4b9c400>"
      ]
     },
     "execution_count": 151,
     "metadata": {},
     "output_type": "execute_result"
    }
   ],
   "source": [
    "# ramsey x quantum circuit\n",
    "qreg_q = QuantumRegister(1, 'q')\n",
    "creg_c = ClassicalRegister(1, 'c')\n",
    "circuit = QuantumCircuit(qreg_q, creg_c)\n",
    "\n",
    "circuit.reset(qreg_q[0])\n",
    "circuit.h(qreg_q[0])\n",
    "circuit.barrier(qreg_q[0])\n",
    "circuit.p(3*pi/4, qreg_q[0])\n",
    "circuit.barrier(qreg_q[0])\n",
    "circuit.h(qreg_q[0])"
   ]
  },
  {
   "cell_type": "code",
   "execution_count": 152,
   "id": "da77ab82",
   "metadata": {},
   "outputs": [
    {
     "data": {
      "image/png": "[encoded data removed]",
      "text/plain": [
       "<Figure size 504x504 with 2 Axes>"
      ]
     },
     "execution_count": 152,
     "metadata": {},
     "output_type": "execute_result"
    }
   ],
   "source": [
    "state = Statevector.from_instruction(circuit)\n",
    "plot_state_qsphere(state, show_state_phases=True)"
   ]
  },
  {
   "cell_type": "code",
   "execution_count": 153,
   "id": "2f7b2a07",
   "metadata": {},
   "outputs": [
    {
     "data": {
      "text/plain": [
       "<qiskit.circuit.instructionset.InstructionSet at 0x200d4dc9220>"
      ]
     },
     "execution_count": 153,
     "metadata": {},
     "output_type": "execute_result"
    }
   ],
   "source": [
    "circuit.measure(qreg_q[0], creg_c[0])"
   ]
  },
  {
   "cell_type": "code",
   "execution_count": 154,
   "id": "28ff0174",
   "metadata": {},
   "outputs": [
    {
     "data": {
      "text/html": [
       "<pre style=\"word-wrap: normal;white-space: pre;background: #fff0;line-height: 1.1;font-family: &quot;Courier New&quot;,Courier,monospace\">          ┌───┐ ░ ┌─────────┐ ░ ┌───┐┌─┐\n",
       "q_0: ─|0>─┤ H ├─░─┤ P(3π/4) ├─░─┤ H ├┤M├\n",
       "          └───┘ ░ └─────────┘ ░ └───┘└╥┘\n",
       "c: 1/═════════════════════════════════╩═\n",
       "                                      0 </pre>"
      ],
      "text/plain": [
       "          ┌───┐ ░ ┌─────────┐ ░ ┌───┐┌─┐\n",
       "q_0: ─|0>─┤ H ├─░─┤ P(3π/4) ├─░─┤ H ├┤M├\n",
       "          └───┘ ░ └─────────┘ ░ └───┘└╥┘\n",
       "c: 1/═════════════════════════════════╩═\n",
       "                                      0 "
      ]
     },
     "execution_count": 154,
     "metadata": {},
     "output_type": "execute_result"
    }
   ],
   "source": [
    "circuit.draw()"
   ]
  },
  {
   "cell_type": "code",
   "execution_count": 155,
   "id": "b3d20ef7",
   "metadata": {},
   "outputs": [
    {
     "data": {
      "image/png": "[encoded data removed]",
      "text/plain": [
       "<Figure size 504x360 with 1 Axes>"
      ]
     },
     "execution_count": 155,
     "metadata": {},
     "output_type": "execute_result"
    }
   ],
   "source": [
    "backend = BasicAer.get_backend('qasm_simulator')\n",
    "job = execute(circuit, backend)\n",
    "plot_histogram(job.result().get_counts(), color='midnightblue', title=\"Ramsey x circuit\")"
   ]
  },
  {
   "cell_type": "code",
   "execution_count": 156,
   "id": "06af33ad",
   "metadata": {},
   "outputs": [],
   "source": [
    "# extracting the information\n",
    "dataX = job.result().data()"
   ]
  },
  {
   "cell_type": "markdown",
   "id": "ecee3f44",
   "metadata": {},
   "source": [
    "## Ramsey Y Circuit\n",
    "\n",
    "Following the same math as the Ramsey X circuit we find: \n",
    "\n",
    "$$\n",
    "\\begin{align*} \n",
    "y &=  d \\\\ \n",
    " &=  sin(\\phi) \\\\ \n",
    " &=   \\Im[e^{j\\phi}]\n",
    "\\end{align*}\n",
    "$$\n",
    "\n",
    "And since we know both x any y we can can find the phase:\n",
    "\n",
    "$$\n",
    "\\phi = \\arctan (\\frac{y}{x})\n",
    "$$"
   ]
  },
  {
   "cell_type": "code",
   "execution_count": 157,
   "id": "a9bd2ca6",
   "metadata": {},
   "outputs": [
    {
     "data": {
      "text/plain": [
       "<qiskit.circuit.instructionset.InstructionSet at 0x200d4dea220>"
      ]
     },
     "execution_count": 157,
     "metadata": {},
     "output_type": "execute_result"
    }
   ],
   "source": [
    "# ramsey y quantum circuit\n",
    "qreg_q = QuantumRegister(1, 'q')\n",
    "creg_c = ClassicalRegister(1, 'c')\n",
    "circuit = QuantumCircuit(qreg_q, creg_c)\n",
    "\n",
    "circuit.reset(qreg_q[0])\n",
    "circuit.h(qreg_q[0])\n",
    "circuit.barrier(qreg_q[0])\n",
    "circuit.p(3*pi/4, qreg_q[0])\n",
    "circuit.barrier(qreg_q[0])\n",
    "circuit.sdg(qreg_q[0])\n",
    "circuit.h(qreg_q[0])"
   ]
  },
  {
   "cell_type": "code",
   "execution_count": 158,
   "id": "9bc28c31",
   "metadata": {},
   "outputs": [
    {
     "data": {
      "image/png": "[encoded data removed]",
      "text/plain": [
       "<Figure size 504x504 with 2 Axes>"
      ]
     },
     "execution_count": 158,
     "metadata": {},
     "output_type": "execute_result"
    }
   ],
   "source": [
    "state = Statevector.from_instruction(circuit)\n",
    "plot_state_qsphere(state, show_state_phases=True)"
   ]
  },
  {
   "cell_type": "code",
   "execution_count": 159,
   "id": "b95ec6ba",
   "metadata": {},
   "outputs": [
    {
     "data": {
      "text/plain": [
       "<qiskit.circuit.instructionset.InstructionSet at 0x200d5049640>"
      ]
     },
     "execution_count": 159,
     "metadata": {},
     "output_type": "execute_result"
    }
   ],
   "source": [
    "circuit.measure(qreg_q[0], creg_c[0])"
   ]
  },
  {
   "cell_type": "code",
   "execution_count": 160,
   "id": "6e5d3953",
   "metadata": {},
   "outputs": [
    {
     "data": {
      "text/html": [
       "<pre style=\"word-wrap: normal;white-space: pre;background: #fff0;line-height: 1.1;font-family: &quot;Courier New&quot;,Courier,monospace\">          ┌───┐ ░ ┌─────────┐ ░ ┌─────┐┌───┐┌─┐\n",
       "q_0: ─|0>─┤ H ├─░─┤ P(3π/4) ├─░─┤ SDG ├┤ H ├┤M├\n",
       "          └───┘ ░ └─────────┘ ░ └─────┘└───┘└╥┘\n",
       "c: 1/════════════════════════════════════════╩═\n",
       "                                             0 </pre>"
      ],
      "text/plain": [
       "          ┌───┐ ░ ┌─────────┐ ░ ┌─────┐┌───┐┌─┐\n",
       "q_0: ─|0>─┤ H ├─░─┤ P(3π/4) ├─░─┤ SDG ├┤ H ├┤M├\n",
       "          └───┘ ░ └─────────┘ ░ └─────┘└───┘└╥┘\n",
       "c: 1/════════════════════════════════════════╩═\n",
       "                                             0 "
      ]
     },
     "execution_count": 160,
     "metadata": {},
     "output_type": "execute_result"
    }
   ],
   "source": [
    "circuit.draw()"
   ]
  },
  {
   "cell_type": "code",
   "execution_count": 161,
   "id": "b754b4d0",
   "metadata": {},
   "outputs": [
    {
     "data": {
      "image/png": "[encoded data removed]",
      "text/plain": [
       "<Figure size 504x360 with 1 Axes>"
      ]
     },
     "execution_count": 161,
     "metadata": {},
     "output_type": "execute_result"
    }
   ],
   "source": [
    "# here we see the simulation results of the ramsey y circuit\n",
    "backend = BasicAer.get_backend('qasm_simulator')\n",
    "job = execute(circuit, backend)\n",
    "plot_histogram(job.result().get_counts(), color='midnightblue', title=\"ramsey y quantum circuit\")"
   ]
  },
  {
   "cell_type": "code",
   "execution_count": 162,
   "id": "5b6a0b33",
   "metadata": {},
   "outputs": [],
   "source": [
    "# extracting the information\n",
    "dataY = job.result().data()"
   ]
  },
  {
   "cell_type": "markdown",
   "id": "2f200918",
   "metadata": {},
   "source": [
    "### Normalized real and imaginary parts\n",
    "\n",
    "Sometimes we have noise present so we have to account for this via **normalization**:\n",
    "\n",
    "$$\n",
    "\\begin{align*} \n",
    "\\bar{x} &=  \\frac{x}{\\sqrt{x^2 + y^2}} \\\\ \n",
    "\\bar{y} &=  \\frac{y}{\\sqrt{x^2 + y^2}} \n",
    "\\end{align*}\n",
    "$$"
   ]
  },
  {
   "cell_type": "code",
   "execution_count": 163,
   "id": "96043769",
   "metadata": {},
   "outputs": [
    {
     "data": {
      "text/plain": [
       "{'counts': {'0x1': 869, '0x0': 155}}"
      ]
     },
     "execution_count": 163,
     "metadata": {},
     "output_type": "execute_result"
    }
   ],
   "source": [
    "dataX"
   ]
  },
  {
   "cell_type": "code",
   "execution_count": 164,
   "id": "c4295c40",
   "metadata": {},
   "outputs": [
    {
     "data": {
      "text/plain": [
       "{'counts': {'0x0': 876, '0x1': 148}}"
      ]
     },
     "execution_count": 164,
     "metadata": {},
     "output_type": "execute_result"
    }
   ],
   "source": [
    "dataY"
   ]
  },
  {
   "cell_type": "code",
   "execution_count": 165,
   "id": "6265db01",
   "metadata": {},
   "outputs": [],
   "source": [
    "import math \n",
    "\n",
    "p0_x_counts = dataX['counts']['0x0']\n",
    "p1_x_counts = dataX['counts']['0x1']\n",
    "\n",
    "p0_x = p0_x_counts/(p0_x_counts + p1_x_counts)\n",
    "p1_x = p1_x_counts/(p0_x_counts + p1_x_counts)"
   ]
  },
  {
   "cell_type": "code",
   "execution_count": 166,
   "id": "613092e0",
   "metadata": {},
   "outputs": [],
   "source": [
    "p0_y_counts = dataY['counts']['0x0']\n",
    "p1_y_counts = dataY['counts']['0x1']\n",
    "\n",
    "p0_y = p0_y_counts/(p0_y_counts + p1_y_counts)\n",
    "p1_y = p1_y_counts/(p0_y_counts + p1_y_counts)"
   ]
  },
  {
   "cell_type": "code",
   "execution_count": 167,
   "id": "0023bc18",
   "metadata": {},
   "outputs": [],
   "source": [
    "dx = p0_x - p1_x\n",
    "dy = p0_y - p1_y"
   ]
  },
  {
   "cell_type": "code",
   "execution_count": 168,
   "id": "52f74193",
   "metadata": {},
   "outputs": [],
   "source": [
    "xbar = dx/math.sqrt(dx**2 + dy**2)\n",
    "ybar = dy/math.sqrt(dx**2 + dy**2)"
   ]
  },
  {
   "cell_type": "code",
   "execution_count": 169,
   "id": "4d277d35",
   "metadata": {},
   "outputs": [
    {
     "data": {
      "text/plain": [
       "0.7469097098495519"
      ]
     },
     "execution_count": 169,
     "metadata": {},
     "output_type": "execute_result"
    }
   ],
   "source": [
    "# and we get 3pi/4 as expected\n",
    "math.atan2(ybar, xbar)/math.pi"
   ]
  },
  {
   "cell_type": "markdown",
   "id": "41b18627",
   "metadata": {},
   "source": [
    "We can see that this agrees with the actual value."
   ]
  },
  {
   "cell_type": "markdown",
   "id": "b470f36e",
   "metadata": {},
   "source": [
    "### An Aside on Quantum Phase"
   ]
  },
  {
   "cell_type": "markdown",
   "id": "75ea86eb",
   "metadata": {},
   "source": [
    "In quantum physics, the quantity that determines the dynamics is **the Hamiltonian** for the system under consideration. The Hamiltonian has units of energy, and is a Hermitian (self-adjoint) operator whose eigenvalues play a central role in determining the **time evolution of the system**. These Hermitian operators are also critical in understanding quantum gates, as any quantum gate can be written in terms of an Hermitian operator **H**. A generic quantum gate **U** can be written:  \n",
    "\n",
    "$$\n",
    "U =  e^{\\frac{-j H t}{\\bar{h}}}\n",
    "$$\n",
    "\n",
    "It acts upon a general state vector $|\\psi>$ to produce a state $|\\psi'>$:\n",
    "\n",
    "$$\n",
    "U|\\psi> = e^{\\frac{-j H t}{\\bar{h}}} |\\psi> = |\\psi'>\n",
    "$$"
   ]
  },
  {
   "cell_type": "markdown",
   "id": "0f6e5f06",
   "metadata": {},
   "source": [
    "Now since the absolute values of energy are not important, we can add a constant to the system Hamiltonian $ H -> H + \\lambda I$. This has the affect of shifting all of the eigenvalues by an amount $\\lambda$. Since all the values are shifted by the same amount, **the differences between values remain unchanged**. "
   ]
  },
  {
   "cell_type": "markdown",
   "id": "c649a87a",
   "metadata": {},
   "source": [
    "$$\n",
    "\\begin{align*} \n",
    "\\bar{U} &=  \\exp({\\frac{-j(H + \\lambda I)t}{\\bar{h}}})|\\psi> \\\\ \n",
    " &=  \\exp({\\frac{-j\\lambda I t}{\\bar{h}}})\\exp({\\frac{-j H t}{\\bar{h}}})|\\psi>\n",
    "\\end{align*}\n",
    "$$"
   ]
  },
  {
   "cell_type": "markdown",
   "id": "105e176c",
   "metadata": {},
   "source": [
    "We see that the action of the energy-shifted Hamiltonian is the same as the original with an **additional pre-factor** that is nothing more than a global phase. \n",
    "We now can see why global phases arise, **but can always be ignored**. They manifest themselves from uniform shifts in energy that **do not affect the dynamics**."
   ]
  },
  {
   "cell_type": "markdown",
   "id": "fbf70e3f",
   "metadata": {},
   "source": [
    "___\n",
    "# Advanced single-qubit gates \n",
    "\n",
    "Another convenient representation of a single-qubit state is: \n",
    "\n",
    "$$\n",
    "|\\psi> = \\cos(\\frac{\\theta}{2})|0> + e^{j\\phi}\\sin(\\frac{\\theta}{2})|1> \n",
    "$$"
   ]
  },
  {
   "cell_type": "markdown",
   "id": "32f05516",
   "metadata": {},
   "source": [
    "where $0 \\leq \\phi < 2 \\pi$ and $0 \\leq \\theta < \\pi$. This can be related to previous representation by: \n",
    "\n",
    "$$\n",
    "\\begin{align*} \n",
    "x &=   \\Re[e^{j\\phi}] \\\\ \n",
    "y &=  \\Im[e^{j\\phi}] \\\\ \n",
    "p &= sin^2(\\frac{\\theta}{2}) \\\\\n",
    "z &= p_0 - p_1 = 1-2p \\\\\n",
    "  &= cos(\\theta)\n",
    "\\end{align*}\n",
    "$$\n",
    "\n",
    "Which corresponds to {x,y,z} coordinates on the bloch sphere: \n",
    "\n",
    "![image](md_images/bloch_sphere_representation.jpg)\n",
    "\n",
    "Note that this geometric representation **breaks down** when we have **more then one qubit**. "
   ]
  },
  {
   "cell_type": "markdown",
   "id": "8d2fee89",
   "metadata": {},
   "source": [
    "## General unitary single qubit gate \n",
    "\n",
    "As mentioned before, single qubit gates are represented by a 2x2 unitary matrix **U**. The action of the gate is found by operating on the general state vector: \n",
    "\n",
    "$$\n",
    "\\begin{align*} \n",
    "U(\\theta, \\phi, \\lambda) &= \\begin{pmatrix}\n",
    "\\cos(\\theta/2) & -e^{j\\lambda}\\sin(\\theta/2) \\\\\n",
    "e^{j\\phi}\\sin(\\theta/2) & e^{j\\lambda + j\\phi}\\cos(\\theta/2)\n",
    "\\end{pmatrix} \\\\\n",
    "U|\\psi> &= |\\psi'> \n",
    "\\end{align*}\n",
    "$$\n",
    "\n",
    "With this general unitary matrix we can rotate the single qubit state anywhere on the Bloch sphere. We can define three gates: \n",
    "\n",
    "#### Rx gate \n",
    "Setting $\\lambda = \\pi/2$ and $\\phi = - \\pi/2$ defines the x-axis rotation\n",
    "\n",
    "$$\n",
    "R_{x}(\\theta) = \\begin{pmatrix}\n",
    "\\cos(\\theta/2) & -j\\sin(\\theta/2) \\\\\n",
    "-j\\sin(\\theta/2) & \\cos(\\theta/2) \\\\\n",
    "\\end{pmatrix} \n",
    "$$\n",
    "\n",
    "#### Ry gate \n",
    "Setting $\\lambda = 0$ and $\\phi = 0$ defines the y-axis rotation\n",
    "\n",
    "$$\n",
    "R_{x}(\\theta) = \\begin{pmatrix}\n",
    "\\cos(\\theta/2) & \\sin(\\theta/2) \\\\\n",
    "\\sin(\\theta/2) & \\cos(\\theta/2) \\\\\n",
    "\\end{pmatrix} \n",
    "$$\n",
    "\n",
    "#### Rz gate \n",
    "Setting $\\lambda = 0$ and $\\theta = 0$ and multiplying by a global phase $\\exp(-j\\phi/2)$ defines the z-axis rotation:\n",
    "\n",
    "$$\n",
    "R_{x}(\\theta) = \\begin{pmatrix}\n",
    "e^{-j\\phi/2} & 0 \\\\\n",
    "0 & e^{-j\\phi/2} \\\\\n",
    "\\end{pmatrix} \n",
    "$$"
   ]
  },
  {
   "cell_type": "markdown",
   "id": "91b3d8ab",
   "metadata": {},
   "source": [
    "## X,Y,Z measurement circuits \n",
    "Similar to the case where we only used X and Y measurement circuits, we make use of a Z measurement circuit to find the angles $\\theta$ (angle from x-axis) and $\\phi$ (angle to the z-axis) that characterize the state vector on the bloch sphere. \n",
    "\n",
    "Below are the schematics of the three circuits: \n",
    "\n",
    "### X measurement circuit\n",
    "![image](md_images/circuit-xmeas.png)\n",
    "\n",
    "### Y measurement circuit\n",
    "![image](md_images/circuit-ymeas.png)\n",
    "\n",
    "### Z measurement circuit\n",
    "![image](md_images/circuit-zmeas.png)\n",
    "\n",
    "Once we have recorded measurements for each circuit we again make use of **renormalization** to account for thermal noise: \n",
    "\n",
    "$$\n",
    "\\begin{align*} \n",
    "\\bar{x} & =  \\frac{x}{\\sqrt{x^2 + y^2 + z^2}} \\quad \\bar{y} =  \\frac{y}{\\sqrt{x^2 + y^2 + z^2}} \\quad \\bar{z} =  \\frac{z}{\\sqrt{x^2 + y^2 + z^2}}  \\\\\n",
    "\\end{align*}\n",
    "$$\n",
    "\n",
    "We make use of these values to find $\\theta$ and $\\phi$ of the unitary matrix **U**: \n",
    "\n",
    "$$\n",
    "\\begin{align*}\n",
    "\\phi & = \\arctan(\\frac{\\bar{y}}{\\bar{x}}) \\\\\n",
    "\\theta & = \\arccos(\\bar{z})\\\\\n",
    "\\end{align*}\n",
    "$$"
   ]
  },
  {
   "cell_type": "code",
   "execution_count": 218,
   "id": "27835045",
   "metadata": {},
   "outputs": [],
   "source": [
    "import math as m\n",
    "\n",
    "# consider using decorator\n",
    "def circuit_builder(circuit_type, theta, phi, _lambda):\n",
    "    \"\"\"Build the circuit\"\"\"\n",
    "    # circuit boilerplate\n",
    "    qreg_q = QuantumRegister(1, 'q')\n",
    "    creg_c = ClassicalRegister(1, 'c')\n",
    "    circuit = QuantumCircuit(qreg_q, creg_c)\n",
    "    circuit.reset(qreg_q[0])\n",
    "    circuit.u(theta, phi, _lambda, qreg_q[0])\n",
    "    \n",
    "    if circuit_type == 'X':\n",
    "        circuit.barrier(qreg_q[0])\n",
    "        circuit.h(qreg_q[0])\n",
    "        \n",
    "    elif circuit_type == 'Y':\n",
    "        circuit.barrier(qreg_q[0])\n",
    "        circuit.sdg(qreg_q[0])\n",
    "        circuit.h(qreg_q[0])\n",
    "\n",
    "    elif circuit_type == 'Z':\n",
    "        circuit.barrier(qreg_q[0])\n",
    "    else:\n",
    "        raise ValueError('Please input X, Y or Z')\n",
    "    \n",
    "    # final measurement \n",
    "    circuit.measure(qreg_q[0], creg_c[0])\n",
    "    \n",
    "    # return circuit object for use in simulations \n",
    "    return circuit \n",
    "\n",
    "def run_circuit(circuit):\n",
    "    \"\"\"Run the simulation on a circuit object\"\"\"\n",
    "    backend = BasicAer.get_backend('qasm_simulator')\n",
    "    job = execute(circuit, backend)\n",
    "    return job.result().get_counts()\n",
    "\n",
    "def calculate_coordinate(data):\n",
    "    \"\"\"calculate the coordinates\"\"\"\n",
    "    counts_0, counts_1 = data['0'], data['1']\n",
    "    p_0, p_1 = (lambda x,y : (x/(x+y), y/(x+y))) (counts_0, counts_1)\n",
    "    return p_0 - p_1\n",
    "\n",
    "def calculate_normalized_coordinates(x,y,z):\n",
    "    \"\"\"calculate the normalized coordinate\"\"\"\n",
    "    factor = m.sqrt(x**2 + y**2 + z**2)\n",
    "    return (x/factor, y/factor, z/factor)"
   ]
  },
  {
   "cell_type": "code",
   "execution_count": 225,
   "id": "b04087f8",
   "metadata": {},
   "outputs": [],
   "source": [
    "# set values \n",
    "theta, phi, _lambda = 3/4*pi, pi/2, 0\n",
    "\n",
    "# build and run circuits \n",
    "x_circuit = circuit_builder('X', theta, phi, _lambda)\n",
    "y_circuit = circuit_builder('Y', theta, phi, _lambda)\n",
    "z_circuit = circuit_builder('Z', theta, phi, _lambda)\n",
    "\n",
    "x_data = run_circuit(x_circuit)\n",
    "y_data = run_circuit(y_circuit)\n",
    "z_data = run_circuit(z_circuit)"
   ]
  },
  {
   "cell_type": "code",
   "execution_count": 226,
   "id": "d3c13121",
   "metadata": {},
   "outputs": [],
   "source": [
    "# calculate coordinate data\n",
    "x = calculate_coordinate(x_data)\n",
    "y = calculate_coordinate(y_data)\n",
    "z = calculate_coordinate(z_data)"
   ]
  },
  {
   "cell_type": "code",
   "execution_count": 227,
   "id": "f13950ef",
   "metadata": {},
   "outputs": [
    {
     "data": {
      "text/plain": [
       "(0.048828125, 0.689453125, -0.697265625)"
      ]
     },
     "execution_count": 227,
     "metadata": {},
     "output_type": "execute_result"
    }
   ],
   "source": [
    "# coordinate values\n",
    "x,y,z"
   ]
  },
  {
   "cell_type": "code",
   "execution_count": 228,
   "id": "a081a50b",
   "metadata": {},
   "outputs": [
    {
     "data": {
      "text/plain": [
       "(0.04973384041278317, 0.7022418266284984, -0.7101992410945437)"
      ]
     },
     "execution_count": 228,
     "metadata": {},
     "output_type": "execute_result"
    }
   ],
   "source": [
    "# calculate values \n",
    "xbar, ybar, zbar = calculate_normalized_coordinates(x,y,z)\n",
    "xbar, ybar, zbar"
   ]
  },
  {
   "cell_type": "code",
   "execution_count": 232,
   "id": "8e70ea3f",
   "metadata": {},
   "outputs": [
    {
     "data": {
      "text/plain": [
       "(1.5, 2.36)"
      ]
     },
     "execution_count": 232,
     "metadata": {},
     "output_type": "execute_result"
    }
   ],
   "source": [
    "# find the angles (in radians)\n",
    "phi = m.atan2(ybar, xbar)\n",
    "theta = m.acos(zbar)\n",
    "round(phi,2), round(theta,2)"
   ]
  },
  {
   "cell_type": "markdown",
   "id": "360b809b",
   "metadata": {},
   "source": [
    "As you can see they are in **close agreement with the values we have set** in this experiment. This shows how the coordinates on the bloch sphere are set by the parameters, $\\theta$ and $\\phi$. "
   ]
  },
  {
   "cell_type": "markdown",
   "id": "52f1d2e0",
   "metadata": {},
   "source": [
    "___ \n",
    "# Entanglement"
   ]
  },
  {
   "cell_type": "markdown",
   "id": "9af9b029",
   "metadata": {},
   "source": [
    "___\n",
    "# Grover's Algorithm "
   ]
  },
  {
   "cell_type": "markdown",
   "id": "c3660886",
   "metadata": {},
   "source": [
    "___\n",
    "# Deutsch-Jozsa Algorithm"
   ]
  },
  {
   "cell_type": "markdown",
   "id": "2d01e8ad",
   "metadata": {},
   "source": [
    "___\n",
    "# Quantum phase estimation"
   ]
  },
  {
   "cell_type": "markdown",
   "id": "91f446bf",
   "metadata": {},
   "source": [
    "___\n",
    "# Shor's Algorithm"
   ]
  }
 ],
 "metadata": {
  "kernelspec": {
   "display_name": "Python 3",
   "language": "python",
   "name": "python3"
  },
  "language_info": {
   "codemirror_mode": {
    "name": "ipython",
    "version": 3
   },
   "file_extension": ".py",
   "mimetype": "text/x-python",
   "name": "python",
   "nbconvert_exporter": "python",
   "pygments_lexer": "ipython3",
   "version": "3.8.8"
  }
 },
 "nbformat": 4,
 "nbformat_minor": 5
}
