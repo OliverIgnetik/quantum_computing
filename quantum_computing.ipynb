{
 "cells": [
  {
   "cell_type": "code",
   "execution_count": 13,
   "id": "narrow-lesson",
   "metadata": {},
   "outputs": [],
   "source": [
    "import pandas as pd, numpy as np, matplotlib.pyplot as plt"
   ]
  },
  {
   "cell_type": "code",
   "execution_count": 14,
   "id": "typical-forty",
   "metadata": {},
   "outputs": [],
   "source": [
    "from pathlib import Path"
   ]
  },
  {
   "cell_type": "markdown",
   "id": "antique-permit",
   "metadata": {},
   "source": [
    "# Quantum computing"
   ]
  },
  {
   "cell_type": "code",
   "execution_count": 44,
   "id": "environmental-establishment",
   "metadata": {},
   "outputs": [],
   "source": [
    "path = Path('/Users/olli/Desktop/Programming/Python/scripts/physics')"
   ]
  },
  {
   "cell_type": "markdown",
   "id": "characteristic-hygiene",
   "metadata": {},
   "source": [
    "____"
   ]
  },
  {
   "cell_type": "markdown",
   "id": "lesser-incentive",
   "metadata": {},
   "source": [
    "## Wave equation\n",
    "\n",
    "![image](md_images/schrodinger.png)\n",
    "\n",
    "## Motivation \n",
    "\n",
    "It has been estimated mathematically that Shor’s algorithm could be able to factor \n",
    "a 232-digit integer (RSA-232), one of the current largest integers, in a matter of seconds. \n",
    "Thus a practical quantum computer that can execute Shor’s algorithm will render \n",
    "current asymmetric cryptography useless. Keep in mind that asymmetric cryptography is \n",
    "used all over society: at the bank, for example, to encrypt data and accounts, at the Web \n",
    "to browse, communicate, you name it\n",
    "\n",
    "![image](md_images/shors_algo.png)"
   ]
  },
  {
   "cell_type": "markdown",
   "id": "detailed-quantity",
   "metadata": {},
   "source": [
    "## End of the transistor?"
   ]
  },
  {
   "cell_type": "code",
   "execution_count": 19,
   "id": "stuffed-defendant",
   "metadata": {},
   "outputs": [],
   "source": [
    "# transistor data from the book\n",
    "transistor_dataframe = pd.DataFrame({'Year': [1995, 2001, 2010, 2014, 2019, 2021, 2025, 2030],\n",
    "                                     'Size (nm)': [20, 10, 6, 7, 8, 5, 3, 0.5]})"
   ]
  },
  {
   "cell_type": "code",
   "execution_count": 33,
   "id": "buried-challenge",
   "metadata": {},
   "outputs": [],
   "source": [
    "# scipy will be very useful\n",
    "\n",
    "from scipy.constants import nano, Planck, electron_mass, electron_volt\n",
    "\n",
    "def engel_prob(E=4.5, V=5, N=1):\n",
    "    \"\"\"\n",
    "    Set ups the probability function for quantum tunneling with:\n",
    "    Barrier potential in eV\n",
    "    Kinetic energy in eV\n",
    "    \"\"\"\n",
    "    def aux(trans_thickness):\n",
    "        a = trans_thickness*nano\n",
    "        probability_wave_function = np.exp(-4*a * (N / Planck) * np.sqrt(\n",
    "            2*electron_mass*(V-E)*electron_volt))\n",
    "        return probability_wave_function\n",
    "\n",
    "    return aux"
   ]
  },
  {
   "cell_type": "code",
   "execution_count": 34,
   "id": "aquatic-tennessee",
   "metadata": {},
   "outputs": [],
   "source": [
    "# go through different kinetic energies\n",
    "Kinetic_energies = np.linspace(4.5, 4.99, 4)\n",
    "list_probabilities = []\n",
    "KE_labels = []\n",
    "\n",
    "for KE in Kinetic_energies:\n",
    "    probability_function = engel_prob(KE)\n",
    "    probability_vector = probability_function(\n",
    "        transistor_dataframe.iloc[:, 1].values)*100\n",
    "    list_probabilities.append(probability_vector)\n",
    "    KE_labels.append(str(round(KE, 2)) + ' eV')\n",
    "\n",
    "# turn probabilities into dataframe\n",
    "probabilities_dataframe = pd.DataFrame(\n",
    "    list_probabilities).transpose()\n",
    "probabilities_dataframe.columns = KE_labels\n"
   ]
  },
  {
   "cell_type": "code",
   "execution_count": 35,
   "id": "fundamental-championship",
   "metadata": {},
   "outputs": [
    {
     "data": {
      "image/png": "[encoded data removed]",
      "text/plain": [
       "<Figure size 432x288 with 1 Axes>"
      ]
     },
     "metadata": {
      "needs_background": "light"
     },
     "output_type": "display_data"
    }
   ],
   "source": [
    "# Set up final data frame\n",
    "data = pd.concat([transistor_dataframe, probabilities_dataframe], axis=1)\n",
    "data.set_index('Size (nm)', inplace=True)\n",
    "\n",
    "# plot\n",
    "data.iloc[:, 1:].plot()\n",
    "plt.xlabel('transistor size (nm)')\n",
    "plt.ylabel('Probability of tunneling (%)')\n",
    "plt.title('Nanoscale transistors and quantum tunneling')\n",
    "plt.show()\n"
   ]
  },
  {
   "cell_type": "markdown",
   "id": "studied-purpose",
   "metadata": {},
   "source": [
    "### Possible futures of the transistor\n",
    "\n",
    "* Molecular electronics: A field that generates much excitement. It \n",
    "promises to extend the limit of small-scale silicon-based integrated \n",
    "circuits by using molecular building blocks for the fabrication of \n",
    "electronic components.\n",
    "*  This is a field of materials \n",
    "science concerning the design and application of organic molecules \n",
    "or polymers that show desirable electronic properties such as \n",
    "conductivity.\n",
    "___"
   ]
  },
  {
   "cell_type": "markdown",
   "id": "regional-bleeding",
   "metadata": {},
   "source": [
    "## Genesis of the quantum computer\n",
    "\n",
    "Just like its classical cousin, **the qubit** can take a value of either 0 or 1. Physically, qubits \n",
    "can be represented as any two-level quantum systems such as\n",
    "* The spin of a particle in a magnetic field where up means 0 and down \n",
    "means 1 or\n",
    "* The polarization of a single photon where horizontal polarization \n",
    "means 1 and vertical polarization means 0. You can make a quantum \n",
    "computer out of light. How weird is that.\n",
    "\n",
    "In both cases 0 and 1 are the only possible states. Geometrically, qubits can be \n",
    "visualized using a shape called the Bloch sphere, an instrument named after Swiss \n",
    "physicist Felix Bloch\n",
    "\n",
    "\n",
    "### Bloch Sphere\n",
    "\n",
    "Formally, the Bloch sphere is the geometrical representation in three-dimensional \n",
    "Hilbert space of the pure state of a two-level quantum system or qubit. The north and \n",
    "south poles of the sphere represent the standard basis vectors $|0>$ and $|1>$\n",
    "\n",
    "![image](md_images/bloch_sphere.png)"
   ]
  },
  {
   "cell_type": "markdown",
   "id": "proper-metropolitan",
   "metadata": {},
   "source": [
    "Besides the basic vectors, the sphere can have something in between; this is called a **superposition** and it \n",
    "is essentially the probability for 0 or 1. The trick is that we can’t predict which it will be \n",
    "except at the instant of observation when the probability collapses into a definitive state."
   ]
  },
  {
   "cell_type": "markdown",
   "id": "progressive-consensus",
   "metadata": {},
   "source": [
    "## The power of superposition and quantum supremacy\n",
    "\n",
    "All in all, superposition is a game changer. Let’s see why:\n",
    "\n",
    "### 1 bit comparison\n",
    "* A 1-bit classical computer *can be (or store) in 1 of 2 states* at a time*: **0 or 1**. \n",
    "* A 1-qubit quantum computer *can be (or store) in 2 states at a time*. That is 21 = 2.\n",
    "\n",
    "### 2 bit comparison\n",
    "* A 2-bit classical computer *can store only 1 out of 4 possible combinations* \n",
    "* A 2-qubit quantum computer *can store 4 possible values simultaneously*\n",
    "\n",
    "**DEFINITION OF QUANTUM STORAGE POTENTIAL :** the number of values that can be stored simultaneously in a quantum \n",
    "computer would be \n",
    "___\n",
    "Number of Values stored = $2\\cdot n$, \n",
    "\n",
    "where $n$ is the _number of qubits_\n",
    "___"
   ]
  },
  {
   "cell_type": "markdown",
   "id": "north-growth",
   "metadata": {},
   "source": [
    "|Bits/qubits | Classic storage (bytes)| Quantum storage (bits)| Quantum storage (bytes)|\n",
    "|-----------|-----------|-----------|-----------|\n",
    "|4| 1| 16| 2|\n",
    "|8 |1 |256 |32|\n",
    "|32 |4| 4294967296 |536870912|\n",
    "|64 |8 |1.84467E+19 |2.30584E+18|"
   ]
  }
 ],
 "metadata": {
  "kernelspec": {
   "display_name": "Python 3",
   "language": "python",
   "name": "python3"
  },
  "language_info": {
   "codemirror_mode": {
    "name": "ipython",
    "version": 3
   },
   "file_extension": ".py",
   "mimetype": "text/x-python",
   "name": "python",
   "nbconvert_exporter": "python",
   "pygments_lexer": "ipython3",
   "version": "3.8.8"
  }
 },
 "nbformat": 4,
 "nbformat_minor": 5
}
