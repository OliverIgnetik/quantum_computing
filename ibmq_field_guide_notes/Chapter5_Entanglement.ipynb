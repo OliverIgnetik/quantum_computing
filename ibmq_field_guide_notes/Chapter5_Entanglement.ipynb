{
 "cells": [
  {
   "cell_type": "code",
   "execution_count": 1,
   "id": "50fb3a5b",
   "metadata": {},
   "outputs": [],
   "source": [
    "import pandas as pd, numpy as np, matplotlib.pyplot as plt"
   ]
  },
  {
   "cell_type": "code",
   "execution_count": 105,
   "id": "5cb7299d",
   "metadata": {},
   "outputs": [],
   "source": [
    "from qiskit import QuantumRegister, ClassicalRegister, QuantumCircuit, BasicAer, execute\n",
    "from qiskit.visualization import plot_histogram\n",
    "from numpy import pi\n",
    "\n",
    "from qiskit.quantum_info import Statevector\n",
    "from qiskit.visualization import plot_state_qsphere"
   ]
  },
  {
   "cell_type": "markdown",
   "id": "25bf4fb4",
   "metadata": {},
   "source": [
    "# Entanglement\n",
    "___\n",
    "## CNOT gates and entanglement\n",
    "A good way to introduce entanglement is by studying the the controlled-NOT (CNOT) gate and the composition of two systems. We define the tensor product between operations $q_0$ and $q_1$ by: \n",
    "\n",
    "$$\n",
    "q_1 \\otimes q_0\n",
    "$$\n",
    "\n",
    "Where **$q_0$ is the control** and **$q_1$ is the target**. $q_0$ in computer science notation ussually corresponds to the Least Significant Bit (LSB). The CNOT with this representation is: \n",
    "\n",
    "$$\n",
    "CNOT = \\begin{pmatrix}\n",
    "1 & 0 & 0 & 0 \\\\\n",
    "0 & 0 & 0 & 1 \\\\\n",
    "0 & 0 & 1 & 0 \\\\\n",
    "0 & 1 & 0 & 0 \\\\\n",
    "\\end{pmatrix} \n",
    "$$\n",
    "\n",
    "An entangled state of the two qubits can be made via an $H$ gate on the control qubit, followed by the CNOT gate. This creates a maximally entangled state known as a **Bell State**. "
   ]
  },
  {
   "cell_type": "markdown",
   "id": "e4c637bb",
   "metadata": {},
   "source": [
    "___\n",
    "## Experiment with the Bell State "
   ]
  },
  {
   "cell_type": "markdown",
   "id": "90fb53b7",
   "metadata": {},
   "source": [
    "To explore the Bell state we can prepare an entangled state of two qubits and investigate the different states: \n",
    "\n",
    "* What is the state of the zeroth qubit in the standard basis?\n",
    "* What is the state of the zeroth qubit in the superposition basis?\n",
    "* What is the state of the first qubit in the standard basis?\n",
    "* What is the state of the first qubit in the superposition basis?\n",
    "* What is the state of both qubits in the standard basis?\n",
    "* What is the state of both qubits in the superposition basis?\n",
    "\n",
    "**NOTE:** Standard basis -> Computational basis"
   ]
  },
  {
   "cell_type": "code",
   "execution_count": 46,
   "id": "047f53c5",
   "metadata": {},
   "outputs": [],
   "source": [
    "# Consider using effective functions here or using a object orientated approach\n",
    "def circuit_builder(circuit_type):\n",
    "    \"\"\"Build the circuit\"\"\"\n",
    "    options = ['zq0', 'xq0', 'zq1', 'xq1', 'zz', 'xx']\n",
    "    if circuit_type not in options:\n",
    "        raise ValueError('Invalid circuit type')\n",
    "    \n",
    "    # boilerplate code for circuits\n",
    "    qreg_q = QuantumRegister(2, 'q')\n",
    "    creg_c = ClassicalRegister(2, 'c')\n",
    "    circuit = QuantumCircuit(qreg_q, creg_c)\n",
    "    \n",
    "    # bell state entanglement\n",
    "    circuit.reset(qreg_q[0])\n",
    "    circuit.h(qreg_q[0])\n",
    "    circuit.reset(qreg_q[1])\n",
    "    circuit.cx(qreg_q[0], qreg_q[1])\n",
    "    \n",
    "    # circuit specifics\n",
    "    if circuit_type == 'zq0':\n",
    "        circuit.measure(qreg_q[0], creg_c[0])\n",
    "        \n",
    "    elif circuit_type == 'xq0':\n",
    "        circuit.h(qreg_q[0])\n",
    "        circuit.measure(qreg_q[0], creg_c[0])\n",
    "\n",
    "    elif circuit_type == 'zq1':\n",
    "        circuit.measure(qreg_q[1], creg_c[1])\n",
    "        \n",
    "    elif circuit_type == 'xq1':\n",
    "        circuit.h(qreg_q[1])\n",
    "        circuit.measure(qreg_q[1], creg_c[1])\n",
    "        \n",
    "    elif circuit_type == 'zz':\n",
    "        circuit.measure(qreg_q[0], creg_c[0])\n",
    "        circuit.measure(qreg_q[1], creg_c[1])\n",
    "        \n",
    "    \n",
    "    elif circuit_type == 'xx':\n",
    "        circuit.h(qreg_q[0])\n",
    "        circuit.h(qreg_q[1])\n",
    "        circuit.measure(qreg_q[0], creg_c[0])\n",
    "        circuit.measure(qreg_q[1], creg_c[1])\n",
    "        \n",
    "    # return circuit object for use in simulations \n",
    "    return circuit \n",
    "\n",
    "def run_circuit(circuit):\n",
    "    \"\"\"Run the simulation on a circuit object\"\"\"\n",
    "    backend = BasicAer.get_backend('qasm_simulator')\n",
    "    job = execute(circuit, backend)\n",
    "    return job"
   ]
  },
  {
   "cell_type": "markdown",
   "id": "cc707723",
   "metadata": {},
   "source": [
    "___\n",
    "## Measurements on qubit 0\n",
    "### Bell state + z-measurement on qubit 0\n",
    "\n",
    "![image](../md_images/Bell12.png)"
   ]
  },
  {
   "cell_type": "code",
   "execution_count": 51,
   "id": "cf99a5bd",
   "metadata": {},
   "outputs": [
    {
     "data": {
      "image/png": "[encoded data removed]",
      "text/plain": [
       "<Figure size 504x360 with 1 Axes>"
      ]
     },
     "execution_count": 51,
     "metadata": {},
     "output_type": "execute_result"
    }
   ],
   "source": [
    "# simulation results \n",
    "c = circuit_builder('zq0')\n",
    "job = run_circuit(c)\n",
    "plot_histogram(job.result().get_counts(), color='midnightblue', title=\"Bell state and z-measurement on qubit 0\")"
   ]
  },
  {
   "cell_type": "markdown",
   "id": "bc3b9d9f",
   "metadata": {},
   "source": [
    "Half the time $q_0$ is in $|0>$ and the other half it is in the $|1>$ state. This seems to mimick the behaviour that we saw in the superposition of a single qubit using the **computational basis**. In the next experiment we measure $q_0$ in the **superposition basis**. "
   ]
  },
  {
   "cell_type": "markdown",
   "id": "23c97c57",
   "metadata": {},
   "source": [
    "### Bell state + x-measurement on qubit 0\n",
    "\n",
    "![image](../md_images/Bell22.png)"
   ]
  },
  {
   "cell_type": "code",
   "execution_count": 52,
   "id": "fe367762",
   "metadata": {},
   "outputs": [
    {
     "data": {
      "image/png": "[encoded data removed]",
      "text/plain": [
       "<Figure size 504x360 with 1 Axes>"
      ]
     },
     "execution_count": 52,
     "metadata": {},
     "output_type": "execute_result"
    }
   ],
   "source": [
    "# simulation results\n",
    "c = circuit_builder('xq0')\n",
    "job = run_circuit(c)\n",
    "plot_histogram(job.result().get_counts(), color='midnightblue', title=\"Bell state and x-measurement on qubit 0\")"
   ]
  },
  {
   "cell_type": "markdown",
   "id": "10fb769e",
   "metadata": {},
   "source": [
    "We see that even in the **superposition basis** the result is still random. This tells us **we know nothing about $q_0$**. "
   ]
  },
  {
   "cell_type": "markdown",
   "id": "5f3b72b9",
   "metadata": {},
   "source": [
    "___\n",
    "## Measurments on qubit 1\n",
    "### Bell state + z-measurement on qubit 1\n",
    "\n",
    "![image](../md_images/Bell32.png)"
   ]
  },
  {
   "cell_type": "code",
   "execution_count": 53,
   "id": "d0a7298e",
   "metadata": {},
   "outputs": [
    {
     "data": {
      "image/png": "[encoded data removed]",
      "text/plain": [
       "<Figure size 504x360 with 1 Axes>"
      ]
     },
     "execution_count": 53,
     "metadata": {},
     "output_type": "execute_result"
    }
   ],
   "source": [
    "# simulation results\n",
    "c = circuit_builder('zq1')\n",
    "job = run_circuit(c)\n",
    "plot_histogram(job.result().get_counts(), color='midnightblue', title=\"Bell state and z-measurement on qubit 1\")"
   ]
  },
  {
   "cell_type": "markdown",
   "id": "d5a43204",
   "metadata": {},
   "source": [
    "This experiment shows that in the **computational basis** we know nothing about $q_1$. "
   ]
  },
  {
   "cell_type": "markdown",
   "id": "b288bbf5",
   "metadata": {},
   "source": [
    "### Bell state + x-measurement on qubit 1\n",
    "\n",
    "![image](../md_images/Bell42.png)"
   ]
  },
  {
   "cell_type": "code",
   "execution_count": 55,
   "id": "3b3c8a85",
   "metadata": {},
   "outputs": [
    {
     "data": {
      "image/png": "[encoded data removed]",
      "text/plain": [
       "<Figure size 504x360 with 1 Axes>"
      ]
     },
     "execution_count": 55,
     "metadata": {},
     "output_type": "execute_result"
    }
   ],
   "source": [
    "# simulation results \n",
    "c = circuit_builder('xq1')\n",
    "job = run_circuit(c)\n",
    "plot_histogram(job.result().get_counts(), color='midnightblue', title=\"Bell state and x-measurement on qubit 1\")"
   ]
  },
  {
   "cell_type": "markdown",
   "id": "5ee86651",
   "metadata": {},
   "source": [
    "In the **superposition basis**, just like the computational basis, we know nothing about $q_1$."
   ]
  },
  {
   "cell_type": "markdown",
   "id": "37561050",
   "metadata": {},
   "source": [
    "___\n",
    "## Measurments on both qubits\n",
    "### Bell state + zz-measurement on qubits\n",
    "\n",
    "![image](../md_images/Bell52.png)"
   ]
  },
  {
   "cell_type": "code",
   "execution_count": 56,
   "id": "01001e53",
   "metadata": {},
   "outputs": [
    {
     "data": {
      "image/png": "[encoded data removed]",
      "text/plain": [
       "<Figure size 504x360 with 1 Axes>"
      ]
     },
     "execution_count": 56,
     "metadata": {},
     "output_type": "execute_result"
    }
   ],
   "source": [
    "# simulation results\n",
    "c = circuit_builder('zz')\n",
    "job = run_circuit(c)\n",
    "plot_histogram(job.result().get_counts(), color='midnightblue', title=\"Bell state and zz-measurement on qubits\")"
   ]
  },
  {
   "cell_type": "markdown",
   "id": "035cc8e2",
   "metadata": {},
   "source": [
    "Here we see that with high probability, if $q_0$ is in state 0, $q_1$ will be in 0 as well; the same goes if $q_0$ is in state 1. They are perfectly correlated.\n",
    "Note that two of the basis states are missing $|10>$ and $|01>$."
   ]
  },
  {
   "cell_type": "markdown",
   "id": "03b5d1e3",
   "metadata": {},
   "source": [
    "### Bell state + xx-measurement on qubits\n",
    "\n",
    "![image](../md_images/Bell62.png)"
   ]
  },
  {
   "cell_type": "code",
   "execution_count": 60,
   "id": "afb6fea8",
   "metadata": {},
   "outputs": [
    {
     "data": {
      "image/png": "[encoded data removed]",
      "text/plain": [
       "<Figure size 504x360 with 1 Axes>"
      ]
     },
     "execution_count": 60,
     "metadata": {},
     "output_type": "execute_result"
    }
   ],
   "source": [
    "# simulation results \n",
    "c = circuit_builder('xx')\n",
    "job = run_circuit(c)\n",
    "plot_histogram(job.result().get_counts(), color='midnightblue', title=\"Bell state and xx-measurement on qubits\")"
   ]
  },
  {
   "cell_type": "markdown",
   "id": "35904b78",
   "metadata": {},
   "source": [
    "Here we see that even in another basis the system also has **perfect correlations (accounting for experimental noise)**. Therefore, if $q_0$ is measured in state $|0>$, we know that $q_1$ is in this state as well; likewise, if $q_0$ is measured in state $|+>$, we know $q_1$ is also in this state."
   ]
  },
  {
   "cell_type": "markdown",
   "id": "e418e4c0",
   "metadata": {},
   "source": [
    "___\n",
    "## GHZ states\n",
    "\n",
    "Perhaps even stranger than Bell states are their three-qubit generalization, the *GHZ states.* An example of a GHZ state is: \n",
    "\n",
    "$$\n",
    "|\\psi> = \\frac{1}{\\sqrt{2}}(|000> + |111>) \n",
    "$$\n",
    "\n",
    "A GHZ state can be constructed using the circuit below: \n",
    "\n",
    "![image](../md_images/ghz-circ4.png)"
   ]
  },
  {
   "cell_type": "code",
   "execution_count": 80,
   "id": "eb34e79e",
   "metadata": {},
   "outputs": [],
   "source": [
    "def build_GHZ_circuit():\n",
    "    \"\"\"Builds a GHZ circuit\"\"\"\n",
    "    qreg_q = QuantumRegister(3, 'q')\n",
    "    creg_c = ClassicalRegister(3, 'c')\n",
    "    circuit = QuantumCircuit(qreg_q, creg_c)\n",
    "    \n",
    "    # initialize GHZ states\n",
    "    circuit.reset(qreg_q[0])\n",
    "    circuit.reset(qreg_q[1])\n",
    "    circuit.h(qreg_q[0])\n",
    "    circuit.cx(qreg_q[0], qreg_q[1])\n",
    "    circuit.reset(qreg_q[2])\n",
    "    circuit.cx(qreg_q[0], qreg_q[2])\n",
    "    \n",
    "    # measure qubits\n",
    "    circuit.measure(qreg_q[0], creg_c[0])\n",
    "    circuit.measure(qreg_q[1], creg_c[1])\n",
    "    circuit.measure(qreg_q[2], creg_c[2])\n",
    "    \n",
    "    return circuit"
   ]
  },
  {
   "cell_type": "code",
   "execution_count": 81,
   "id": "7d2311fd",
   "metadata": {},
   "outputs": [],
   "source": [
    "# build and run GHZ circuit\n",
    "c = build_GHZ_circuit()"
   ]
  },
  {
   "cell_type": "code",
   "execution_count": 82,
   "id": "102813b7",
   "metadata": {},
   "outputs": [
    {
     "data": {
      "image/png": "[encoded data removed]",
      "text/plain": [
       "<Figure size 504x360 with 1 Axes>"
      ]
     },
     "execution_count": 82,
     "metadata": {},
     "output_type": "execute_result"
    }
   ],
   "source": [
    "job = run_circuit(c)\n",
    "plot_histogram(job.result().get_counts(), color='midnightblue', title=\"GHZ state measurement\")"
   ]
  },
  {
   "cell_type": "markdown",
   "id": "d317f00d",
   "metadata": {},
   "source": [
    "___\n",
    "## W states vs. GHZ states\n",
    "\n",
    "W states are another way to entangle 3 qubits. Compared to GHZ states they are more robustly entangled when a qubit is lost. Comparing the two different entangled states: \n",
    "\n",
    "$$\n",
    "\\begin{align*}\n",
    "|GHZ_3> &= \\frac{1}{\\sqrt{2}}(|000> + |111>) \\\\\n",
    "|W_3> &= \\frac{1}{\\sqrt{3}}(|010> + |100>) \n",
    "\\end{align*}\n",
    "$$\n",
    "\n",
    "### GHZ states\n",
    "\n",
    "If we start with the $|GHZ_3>$ state and **lose a qubit by measuring it** the states will be no longer entangled. The resulting output $|\\psi_{m}^{GHZ}>$ depends on the outcome **$m$**. The outcome **$m$** is uniformily random. The resulting state is either: \n",
    "\n",
    "$$\n",
    "\\begin{align*}\n",
    "|\\psi_{0}^{GHZ}> &= |00> \\\\\n",
    "& OR \\\\\n",
    "|\\psi_{1}^{GHZ}> &= |11> \\\\\n",
    "\\end{align*}\n",
    "$$\n",
    "\n",
    "Which means neither the states are no longer entangled after one qubit is measured.\n",
    "\n",
    "### W states\n",
    "\n",
    "If we start with a $|W_3>$ state and measure one qubit there is a chance that the resulting state can be maximally entangled. Again the resulting state, $|\\psi_{m}^{W}>$, depends on the measurement outcome **$m$**. \n",
    "\n",
    "Outcome **$m$** is 0 two-thirds of the time and 1 the rest of the time. The resulting state is either: \n",
    "\n",
    "$$\n",
    "\\begin{align*}\n",
    "|\\psi_{0}^{W}> &= \\frac{1}{\\sqrt{2}}(|01> + |10>) \\\\\n",
    "&OR\\\\ \n",
    "|\\psi_{1}^{W}> &= |00> \\\\\n",
    "\\end{align*}\n",
    "$$\n",
    "\n",
    "Although $|\\psi_{1}^{W}>$ is **not entangled**, $|\\psi_{0}^{W}>$ is a **maximally entangled** state of two qubits. This is also known as the **residual entanglement**. This resulting state can actually be used to teleport a qubit two-thirds of the time which will be discussed in the section on teleportation."
   ]
  },
  {
   "cell_type": "markdown",
   "id": "69ae341e",
   "metadata": {},
   "source": [
    "## Constructing a W-state\n",
    "\n",
    "Below is an example of a circuit that can entangle three qubits in an entangled W state:\n",
    "\n",
    "![image](../md_images/circuit-w2.png)"
   ]
  },
  {
   "cell_type": "code",
   "execution_count": 91,
   "id": "3096ba4e",
   "metadata": {
    "tags": []
   },
   "outputs": [],
   "source": [
    "def build_W_circuit():\n",
    "    \"\"\"Build circuit for W state measurements\"\"\"\n",
    "    qreg_q = QuantumRegister(3, 'q')\n",
    "    creg_c = ClassicalRegister(3, 'c')\n",
    "    circuit = QuantumCircuit(qreg_q, creg_c)\n",
    "\n",
    "    # boilerplate\n",
    "    circuit.reset(qreg_q[0])\n",
    "    circuit.reset(qreg_q[1])\n",
    "    circuit.reset(qreg_q[2])\n",
    "    circuit.ry(1.9106332362490184, qreg_q[0])\n",
    "    circuit.cu(pi/2, pi/2, pi/2, pi/2, qreg_q[0], qreg_q[1])\n",
    "    circuit.cx(qreg_q[1], qreg_q[2])\n",
    "    circuit.cx(qreg_q[0], qreg_q[1])\n",
    "    circuit.x(qreg_q[0])\n",
    "    \n",
    "    # measurement\n",
    "    circuit.measure(qreg_q[0], creg_c[0])\n",
    "    circuit.measure(qreg_q[1], creg_c[1])\n",
    "    circuit.measure(qreg_q[2], creg_c[2])\n",
    "    return circuit"
   ]
  },
  {
   "cell_type": "code",
   "execution_count": 92,
   "id": "e168b07d",
   "metadata": {},
   "outputs": [],
   "source": [
    "# build and run GHZ circuit\n",
    "c = build_W_circuit()"
   ]
  },
  {
   "cell_type": "code",
   "execution_count": 93,
   "id": "a8a52888",
   "metadata": {},
   "outputs": [
    {
     "data": {
      "image/png": "[encoded data removed]",
      "text/plain": [
       "<Figure size 504x360 with 1 Axes>"
      ]
     },
     "execution_count": 93,
     "metadata": {},
     "output_type": "execute_result"
    }
   ],
   "source": [
    "job = run_circuit(c)\n",
    "plot_histogram(job.result().get_counts(), color='midnightblue', title=\"W state measurement\")"
   ]
  },
  {
   "cell_type": "markdown",
   "id": "ab8dd612",
   "metadata": {},
   "source": [
    "___\n",
    "## Teleportation of qubits"
   ]
  },
  {
   "cell_type": "markdown",
   "id": "f9cdca5a",
   "metadata": {},
   "source": [
    "Consider the circuit schematic below: \n",
    "\n",
    "![image](../md_images/teleport2.png)\n",
    "\n",
    "The top most outcome **$m$** indicates whether or not the state has been successfully teleported. Also $|\\psi>$ is the input state.\n",
    "\n",
    "If **$m = 0$**, which happens two-thirds of the time then the output state of the circuit is $|\\psi'> = X^{m_z+1}Z^{m_x}|\\psi>$. This means we can look at **$m_z$** and **$m_x$** to **correct the output state to recover the original input state $|\\psi>$**. \n",
    "\n",
    "On the otherhand if **$m = 1$**, which happens one-third of the time, then the output state is $|\\psi'> = |0>$ and **we dont recover the original input state**. \n",
    "\n",
    "If we use a *GHZ state* this same **behaviour will not happen**. \n",
    "\n",
    "Here **Z** refers to the *Pauli-Z gate* and **X** refers to the *Not gate or Pauli-X gate*. \n",
    "\n",
    "\n",
    "### References\n",
    "\n",
    "* Not gate : https://quantum-computing.ibm.com/admin/docs/admin/operations_glossary#not-gate\n",
    "* Pauli-Z gate : https://quantum-computing.ibm.com/admin/docs/admin/operations_glossary#z-gate"
   ]
  },
  {
   "cell_type": "markdown",
   "id": "0f9cafe9",
   "metadata": {},
   "source": [
    "#### Implementing this idea\n",
    "\n",
    "![image](../md_images/teleporter_implementation.png)"
   ]
  },
  {
   "cell_type": "code",
   "execution_count": 112,
   "id": "4a72de53",
   "metadata": {},
   "outputs": [],
   "source": [
    "def build_teleportation_circuit():\n",
    "    \"\"\"A function to build a 4-qubit teleportation\"\"\"\n",
    "    # setting up registers\n",
    "    qreg_q = QuantumRegister(4, 'q')\n",
    "    creg_c = ClassicalRegister(4, 'c')\n",
    "    circuit = QuantumCircuit(qreg_q, creg_c)\n",
    "    \n",
    "    # reset quantum registers\n",
    "    circuit.reset(qreg_q[0])\n",
    "    circuit.reset(qreg_q[1])\n",
    "    circuit.reset(qreg_q[2])\n",
    "    circuit.reset(qreg_q[3])\n",
    "    \n",
    "    # W-state setup\n",
    "    circuit.ry(1.9106332362490184, qreg_q[0])\n",
    "    circuit.h(qreg_q[3])\n",
    "    circuit.cu(pi/2, pi/2, pi/2, pi/2, qreg_q[0], qreg_q[1])\n",
    "    circuit.cx(qreg_q[1], qreg_q[2])\n",
    "    circuit.cx(qreg_q[0], qreg_q[1])\n",
    "    circuit.x(qreg_q[0])\n",
    "    circuit.measure(qreg_q[0], creg_c[0])\n",
    "    \n",
    "    # teleportation setup\n",
    "    circuit.cx(qreg_q[3], qreg_q[2])\n",
    "    circuit.h(qreg_q[2])\n",
    "    circuit.measure(qreg_q[2], creg_c[2])\n",
    "    circuit.measure(qreg_q[3], creg_c[3])\n",
    "    circuit.measure(qreg_q[1], creg_c[1])\n",
    "    \n",
    "    return circuit"
   ]
  }
 ],
 "metadata": {
  "kernelspec": {
   "display_name": "Python 3",
   "language": "python",
   "name": "python3"
  },
  "language_info": {
   "codemirror_mode": {
    "name": "ipython",
    "version": 3
   },
   "file_extension": ".py",
   "mimetype": "text/x-python",
   "name": "python",
   "nbconvert_exporter": "python",
   "pygments_lexer": "ipython3",
   "version": "3.8.8"
  }
 },
 "nbformat": 4,
 "nbformat_minor": 5
}
