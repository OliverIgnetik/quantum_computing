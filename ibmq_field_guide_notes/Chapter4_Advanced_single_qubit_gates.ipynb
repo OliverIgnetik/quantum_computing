{
 "cells": [
  {
   "cell_type": "code",
   "execution_count": 10,
   "id": "56329580",
   "metadata": {},
   "outputs": [],
   "source": [
    "import pandas as pd, numpy as np, matplotlib.pyplot as plt"
   ]
  },
  {
   "cell_type": "code",
   "execution_count": 11,
   "id": "cceb6067",
   "metadata": {},
   "outputs": [],
   "source": [
    "from qiskit import QuantumRegister, ClassicalRegister, QuantumCircuit, BasicAer, execute\n",
    "from qiskit.visualization import plot_histogram\n",
    "from numpy import pi\n",
    "\n",
    "from qiskit.quantum_info import Statevector\n",
    "from qiskit.visualization import plot_state_qsphere"
   ]
  },
  {
   "cell_type": "markdown",
   "id": "a160666a",
   "metadata": {},
   "source": [
    "___\n",
    "# Advanced single-qubit gates \n",
    "\n",
    "Another convenient representation of a single-qubit state is: \n",
    "\n",
    "$$\n",
    "|\\psi> = \\cos(\\frac{\\theta}{2})|0> + e^{j\\phi}\\sin(\\frac{\\theta}{2})|1> \n",
    "$$"
   ]
  },
  {
   "cell_type": "markdown",
   "id": "448466d7",
   "metadata": {},
   "source": [
    "where $0 \\leq \\phi < 2 \\pi$ and $0 \\leq \\theta < \\pi$. This can be related to previous representation by: \n",
    "\n",
    "$$\n",
    "\\begin{align*} \n",
    "x &=   \\Re[e^{j\\phi}] \\\\ \n",
    "y &=  \\Im[e^{j\\phi}] \\\\ \n",
    "p &= sin^2(\\frac{\\theta}{2}) \\\\\n",
    "z &= p_0 - p_1 = 1-2p \\\\\n",
    "  &= cos(\\theta)\n",
    "\\end{align*}\n",
    "$$\n",
    "\n",
    "Which corresponds to {x,y,z} coordinates on the bloch sphere: \n",
    "\n",
    "![image](../md_images/bloch_sphere_representation.jpg)\n",
    "\n",
    "Note that this geometric representation **breaks down** when we have **more then one qubit**. "
   ]
  },
  {
   "cell_type": "markdown",
   "id": "6061424f",
   "metadata": {},
   "source": [
    "## General unitary single qubit gate \n",
    "\n",
    "As mentioned before, single qubit gates are represented by a 2x2 unitary matrix **U**. The action of the gate is found by operating on the general state vector: \n",
    "\n",
    "$$\n",
    "\\begin{align*} \n",
    "U(\\theta, \\phi, \\lambda) &= \\begin{pmatrix}\n",
    "\\cos(\\theta/2) & -e^{j\\lambda}\\sin(\\theta/2) \\\\\n",
    "e^{j\\phi}\\sin(\\theta/2) & e^{j\\lambda + j\\phi}\\cos(\\theta/2)\n",
    "\\end{pmatrix} \\\\\n",
    "U|\\psi> &= |\\psi'> \n",
    "\\end{align*}\n",
    "$$\n",
    "\n",
    "With this general unitary matrix we can rotate the single qubit state anywhere on the Bloch sphere. We can define three gates: \n",
    "\n",
    "#### Rx gate \n",
    "Setting $\\lambda = \\pi/2$ and $\\phi = - \\pi/2$ defines the x-axis rotation\n",
    "\n",
    "$$\n",
    "R_{x}(\\theta) = \\begin{pmatrix}\n",
    "\\cos(\\theta/2) & -j\\sin(\\theta/2) \\\\\n",
    "-j\\sin(\\theta/2) & \\cos(\\theta/2) \\\\\n",
    "\\end{pmatrix} \n",
    "$$\n",
    "\n",
    "#### Ry gate \n",
    "Setting $\\lambda = 0$ and $\\phi = 0$ defines the y-axis rotation\n",
    "\n",
    "$$\n",
    "R_{x}(\\theta) = \\begin{pmatrix}\n",
    "\\cos(\\theta/2) & \\sin(\\theta/2) \\\\\n",
    "\\sin(\\theta/2) & \\cos(\\theta/2) \\\\\n",
    "\\end{pmatrix} \n",
    "$$\n",
    "\n",
    "#### Rz gate \n",
    "Setting $\\lambda = 0$ and $\\theta = 0$ and multiplying by a global phase $\\exp(-j\\phi/2)$ defines the z-axis rotation:\n",
    "\n",
    "$$\n",
    "R_{x}(\\theta) = \\begin{pmatrix}\n",
    "e^{-j\\phi/2} & 0 \\\\\n",
    "0 & e^{-j\\phi/2} \\\\\n",
    "\\end{pmatrix} \n",
    "$$"
   ]
  },
  {
   "cell_type": "markdown",
   "id": "77a779d3",
   "metadata": {},
   "source": [
    "## X,Y,Z measurement circuits \n",
    "Similar to the case where we only used X and Y measurement circuits, we make use of a Z measurement circuit to find the angles $\\theta$ (angle from x-axis) and $\\phi$ (angle to the z-axis) that characterize the state vector on the bloch sphere. \n",
    "\n",
    "Below are the schematics of the three circuits: \n",
    "\n",
    "### X measurement circuit\n",
    "![image](../md_images/circuit-xmeas.png)\n",
    "\n",
    "### Y measurement circuit\n",
    "![image](../md_images/circuit-ymeas.png)\n",
    "\n",
    "### Z measurement circuit\n",
    "![image](../md_images/circuit-zmeas.png)\n",
    "\n",
    "Once we have recorded measurements for each circuit we again make use of **renormalization** to account for thermal noise: \n",
    "\n",
    "$$\n",
    "\\begin{align*} \n",
    "\\bar{x} & =  \\frac{x}{\\sqrt{x^2 + y^2 + z^2}} \\quad \\bar{y} =  \\frac{y}{\\sqrt{x^2 + y^2 + z^2}} \\quad \\bar{z} =  \\frac{z}{\\sqrt{x^2 + y^2 + z^2}}  \\\\\n",
    "\\end{align*}\n",
    "$$\n",
    "\n",
    "We make use of these values to find $\\theta$ and $\\phi$ of the unitary matrix **U**: \n",
    "\n",
    "$$\n",
    "\\begin{align*}\n",
    "\\phi & = \\arctan(\\frac{\\bar{y}}{\\bar{x}}) \\\\\n",
    "\\theta & = \\arccos(\\bar{z})\\\\\n",
    "\\end{align*}\n",
    "$$"
   ]
  },
  {
   "cell_type": "code",
   "execution_count": 12,
   "id": "c4e06216",
   "metadata": {},
   "outputs": [],
   "source": [
    "import math as m\n",
    "\n",
    "# consider using decorator\n",
    "def circuit_builder(circuit_type, theta, phi, _lambda):\n",
    "    \"\"\"Build the circuit\"\"\"\n",
    "    # circuit boilerplate\n",
    "    qreg_q = QuantumRegister(1, 'q')\n",
    "    creg_c = ClassicalRegister(1, 'c')\n",
    "    circuit = QuantumCircuit(qreg_q, creg_c)\n",
    "    circuit.reset(qreg_q[0])\n",
    "    circuit.u(theta, phi, _lambda, qreg_q[0])\n",
    "    \n",
    "    if circuit_type == 'X':\n",
    "        circuit.barrier(qreg_q[0])\n",
    "        circuit.h(qreg_q[0])\n",
    "        \n",
    "    elif circuit_type == 'Y':\n",
    "        circuit.barrier(qreg_q[0])\n",
    "        circuit.sdg(qreg_q[0])\n",
    "        circuit.h(qreg_q[0])\n",
    "\n",
    "    elif circuit_type == 'Z':\n",
    "        circuit.barrier(qreg_q[0])\n",
    "    else:\n",
    "        raise ValueError('Please input X, Y or Z')\n",
    "    \n",
    "    # final measurement \n",
    "    circuit.measure(qreg_q[0], creg_c[0])\n",
    "    \n",
    "    # return circuit object for use in simulations \n",
    "    return circuit \n",
    "\n",
    "def run_circuit(circuit):\n",
    "    \"\"\"Run the simulation on a circuit object\"\"\"\n",
    "    backend = BasicAer.get_backend('qasm_simulator')\n",
    "    job = execute(circuit, backend)\n",
    "    return job.result().get_counts()\n",
    "\n",
    "def calculate_coordinate(data):\n",
    "    \"\"\"calculate the coordinates\"\"\"\n",
    "    counts_0, counts_1 = data['0'], data['1']\n",
    "    p_0, p_1 = (lambda x,y : (x/(x+y), y/(x+y))) (counts_0, counts_1)\n",
    "    return p_0 - p_1\n",
    "\n",
    "def calculate_normalized_coordinates(x,y,z):\n",
    "    \"\"\"calculate the normalized coordinate\"\"\"\n",
    "    factor = m.sqrt(x**2 + y**2 + z**2)\n",
    "    return (x/factor, y/factor, z/factor)"
   ]
  },
  {
   "cell_type": "code",
   "execution_count": 13,
   "id": "1c33c18e",
   "metadata": {},
   "outputs": [],
   "source": [
    "# set values \n",
    "theta, phi, _lambda = 3/4*pi, pi/2, 0\n",
    "\n",
    "# build and run circuits \n",
    "x_circuit = circuit_builder('X', theta, phi, _lambda)\n",
    "y_circuit = circuit_builder('Y', theta, phi, _lambda)\n",
    "z_circuit = circuit_builder('Z', theta, phi, _lambda)\n",
    "\n",
    "x_data = run_circuit(x_circuit)\n",
    "y_data = run_circuit(y_circuit)\n",
    "z_data = run_circuit(z_circuit)"
   ]
  },
  {
   "cell_type": "code",
   "execution_count": 14,
   "id": "5a2b2c25",
   "metadata": {},
   "outputs": [],
   "source": [
    "# calculate coordinate data\n",
    "x = calculate_coordinate(x_data)\n",
    "y = calculate_coordinate(y_data)\n",
    "z = calculate_coordinate(z_data)"
   ]
  },
  {
   "cell_type": "code",
   "execution_count": 15,
   "id": "563154e7",
   "metadata": {},
   "outputs": [
    {
     "data": {
      "text/plain": [
       "(0.037109375, 0.697265625, -0.693359375)"
      ]
     },
     "execution_count": 15,
     "metadata": {},
     "output_type": "execute_result"
    }
   ],
   "source": [
    "# coordinate values\n",
    "x,y,z"
   ]
  },
  {
   "cell_type": "code",
   "execution_count": 16,
   "id": "e9ae9db9",
   "metadata": {},
   "outputs": [
    {
     "data": {
      "text/plain": [
       "(0.037711850949153226, 0.7085858309919842, -0.7046161624710208)"
      ]
     },
     "execution_count": 16,
     "metadata": {},
     "output_type": "execute_result"
    }
   ],
   "source": [
    "# calculate values \n",
    "xbar, ybar, zbar = calculate_normalized_coordinates(x,y,z)\n",
    "xbar, ybar, zbar"
   ]
  },
  {
   "cell_type": "code",
   "execution_count": 17,
   "id": "dfa163eb",
   "metadata": {},
   "outputs": [
    {
     "data": {
      "text/plain": [
       "(1.52, 2.35)"
      ]
     },
     "execution_count": 17,
     "metadata": {},
     "output_type": "execute_result"
    }
   ],
   "source": [
    "# find the angles (in radians)\n",
    "phi = m.atan2(ybar, xbar)\n",
    "theta = m.acos(zbar)\n",
    "round(phi,2), round(theta,2)"
   ]
  },
  {
   "cell_type": "markdown",
   "id": "f1613688",
   "metadata": {},
   "source": [
    "As you can see they are in **close agreement with the values we have set** in this experiment. This shows how the coordinates on the bloch sphere are set by the parameters, $\\theta$ and $\\phi$. "
   ]
  }
 ],
 "metadata": {
  "kernelspec": {
   "display_name": "Python 3",
   "language": "python",
   "name": "python3"
  },
  "language_info": {
   "codemirror_mode": {
    "name": "ipython",
    "version": 3
   },
   "file_extension": ".py",
   "mimetype": "text/x-python",
   "name": "python",
   "nbconvert_exporter": "python",
   "pygments_lexer": "ipython3",
   "version": "3.8.8"
  }
 },
 "nbformat": 4,
 "nbformat_minor": 5
}
