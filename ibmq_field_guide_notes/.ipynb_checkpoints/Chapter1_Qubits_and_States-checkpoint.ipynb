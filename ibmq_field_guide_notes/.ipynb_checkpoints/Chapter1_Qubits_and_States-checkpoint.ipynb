{
 "cells": [
  {
   "cell_type": "code",
   "execution_count": 1,
   "id": "e0d60780",
   "metadata": {},
   "outputs": [],
   "source": [
    "import pandas as pd, numpy as np, matplotlib.pyplot as plt"
   ]
  },
  {
   "cell_type": "markdown",
   "id": "3d607741",
   "metadata": {},
   "source": [
    "___\n",
    "# Qubits and states"
   ]
  },
  {
   "cell_type": "code",
   "execution_count": 2,
   "id": "d164a838",
   "metadata": {},
   "outputs": [],
   "source": [
    "from qiskit import QuantumRegister, ClassicalRegister, QuantumCircuit, BasicAer, execute\n",
    "from qiskit.visualization import plot_histogram\n",
    "from numpy import pi"
   ]
  },
  {
   "cell_type": "code",
   "execution_count": 3,
   "id": "92fbd408",
   "metadata": {},
   "outputs": [],
   "source": [
    "## first quantum circuit observing qubit in |0> state\n",
    "\n",
    "qreg_q = QuantumRegister(1, 'q')\n",
    "creg_c = ClassicalRegister(1, 'c')\n",
    "circuit = QuantumCircuit(qreg_q, creg_c)"
   ]
  },
  {
   "cell_type": "code",
   "execution_count": 4,
   "id": "c70cffc1",
   "metadata": {},
   "outputs": [
    {
     "data": {
      "text/plain": [
       "<qiskit.circuit.instructionset.InstructionSet at 0x201e13fc760>"
      ]
     },
     "execution_count": 4,
     "metadata": {},
     "output_type": "execute_result"
    }
   ],
   "source": [
    "circuit.reset(qreg_q[0])\n",
    "circuit.measure(qreg_q[0], creg_c[0])"
   ]
  },
  {
   "cell_type": "code",
   "execution_count": 5,
   "id": "2f32cd56",
   "metadata": {},
   "outputs": [
    {
     "data": {
      "text/html": [
       "<pre style=\"word-wrap: normal;white-space: pre;background: #fff0;line-height: 1.1;font-family: &quot;Courier New&quot;,Courier,monospace\">          ┌─┐\n",
       "q_0: ─|0>─┤M├\n",
       "          └╥┘\n",
       "c: 1/══════╩═\n",
       "           0 </pre>"
      ],
      "text/plain": [
       "          ┌─┐\n",
       "q_0: ─|0>─┤M├\n",
       "          └╥┘\n",
       "c: 1/══════╩═\n",
       "           0 "
      ]
     },
     "execution_count": 5,
     "metadata": {},
     "output_type": "execute_result"
    }
   ],
   "source": [
    "circuit.draw()"
   ]
  },
  {
   "cell_type": "code",
   "execution_count": 6,
   "id": "db7563fe",
   "metadata": {},
   "outputs": [
    {
     "data": {
      "image/png": "[encoded data removed]",
      "text/plain": [
       "<Figure size 504x360 with 1 Axes>"
      ]
     },
     "execution_count": 6,
     "metadata": {},
     "output_type": "execute_result"
    }
   ],
   "source": [
    "# getting the backend simulator and plotting\n",
    "backend = BasicAer.get_backend('qasm_simulator')\n",
    "job = execute(circuit, backend)\n",
    "plot_histogram(job.result().get_counts(), color='midnightblue', title=\"Ground state\")"
   ]
  },
  {
   "cell_type": "markdown",
   "id": "0cbc0683",
   "metadata": {},
   "source": [
    "## X NOT GATE"
   ]
  },
  {
   "cell_type": "code",
   "execution_count": 7,
   "id": "b66e5265",
   "metadata": {},
   "outputs": [],
   "source": [
    "# bit flip circuit\n",
    "qreg_q = QuantumRegister(1, 'q')\n",
    "creg_c = ClassicalRegister(1, 'c')\n",
    "circuit = QuantumCircuit(qreg_q, creg_c)"
   ]
  },
  {
   "cell_type": "code",
   "execution_count": 8,
   "id": "46c00019",
   "metadata": {},
   "outputs": [
    {
     "data": {
      "text/html": [
       "<pre style=\"word-wrap: normal;white-space: pre;background: #fff0;line-height: 1.1;font-family: &quot;Courier New&quot;,Courier,monospace\">          ┌───┐┌─┐\n",
       "q_0: ─|0>─┤ X ├┤M├\n",
       "          └───┘└╥┘\n",
       "c: 1/═══════════╩═\n",
       "                0 </pre>"
      ],
      "text/plain": [
       "          ┌───┐┌─┐\n",
       "q_0: ─|0>─┤ X ├┤M├\n",
       "          └───┘└╥┘\n",
       "c: 1/═══════════╩═\n",
       "                0 "
      ]
     },
     "execution_count": 8,
     "metadata": {},
     "output_type": "execute_result"
    }
   ],
   "source": [
    "circuit.reset(qreg_q[0])\n",
    "circuit.x(qreg_q[0])\n",
    "circuit.measure(qreg_q[0], creg_c[0])\n",
    "circuit.draw()"
   ]
  },
  {
   "cell_type": "code",
   "execution_count": 9,
   "id": "f948e0e0",
   "metadata": {},
   "outputs": [
    {
     "data": {
      "image/png": "[encoded data removed]",
      "text/plain": [
       "<Figure size 504x360 with 1 Axes>"
      ]
     },
     "execution_count": 9,
     "metadata": {},
     "output_type": "execute_result"
    }
   ],
   "source": [
    "backend = BasicAer.get_backend('qasm_simulator')\n",
    "job = execute(circuit, backend)\n",
    "plot_histogram(job.result().get_counts(), color='midnightblue', title=\"Bit flip\")"
   ]
  }
 ],
 "metadata": {
  "kernelspec": {
   "display_name": "Python 3",
   "language": "python",
   "name": "python3"
  },
  "language_info": {
   "codemirror_mode": {
    "name": "ipython",
    "version": 3
   },
   "file_extension": ".py",
   "mimetype": "text/x-python",
   "name": "python",
   "nbconvert_exporter": "python",
   "pygments_lexer": "ipython3",
   "version": "3.8.8"
  }
 },
 "nbformat": 4,
 "nbformat_minor": 5
}
