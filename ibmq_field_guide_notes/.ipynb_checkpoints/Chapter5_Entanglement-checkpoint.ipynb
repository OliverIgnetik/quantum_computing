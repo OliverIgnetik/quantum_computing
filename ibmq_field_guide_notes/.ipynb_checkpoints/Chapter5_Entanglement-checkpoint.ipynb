{
 "cells": [
  {
   "cell_type": "code",
   "execution_count": 41,
   "id": "a171e15f",
   "metadata": {},
   "outputs": [],
   "source": [
    "import pandas as pd, numpy as np, matplotlib.pyplot as plt"
   ]
  },
  {
   "cell_type": "code",
   "execution_count": 42,
   "id": "b4068e99",
   "metadata": {},
   "outputs": [],
   "source": [
    "from qiskit import QuantumRegister, ClassicalRegister, QuantumCircuit, BasicAer, execute\n",
    "from qiskit.visualization import plot_histogram\n",
    "from numpy import pi\n",
    "\n",
    "from qiskit.quantum_info import Statevector\n",
    "from qiskit.visualization import plot_state_qsphere"
   ]
  },
  {
   "cell_type": "markdown",
   "id": "421ebda3",
   "metadata": {},
   "source": [
    "# Entanglement\n",
    "___\n",
    "## CNOT gates and entanglement\n",
    "A good way to introduce entanglement is by studying the the controlled-NOT (CNOT) gate and the composition of two systems. We define the tensor product between operations $q_0$ and $q_1$ by: \n",
    "\n",
    "$$\n",
    "q_1 \\otimes q_0\n",
    "$$\n",
    "\n",
    "Where **$q_0$ is the control** and **$q_1$ is the target**. $q_0$ in computer science notation ussually corresponds to the Least Significant Bit (LSB). The CNOT with this representation is: \n",
    "\n",
    "$$\n",
    "CNOT = \\begin{pmatrix}\n",
    "1 & 0 & 0 & 0 \\\\\n",
    "0 & 0 & 0 & 1 \\\\\n",
    "0 & 0 & 1 & 0 \\\\\n",
    "0 & 1 & 0 & 0 \\\\\n",
    "\\end{pmatrix} \n",
    "$$\n",
    "\n",
    "An entangled state of the two qubits can be made via an $H$ gate on the control qubit, followed by the CNOT gate. This creates a maximally entangled state known as a **Bell State**. "
   ]
  },
  {
   "cell_type": "markdown",
   "id": "e11251f2",
   "metadata": {},
   "source": [
    "___\n",
    "## Experiment with the Bell State "
   ]
  },
  {
   "cell_type": "markdown",
   "id": "ab6faee7",
   "metadata": {},
   "source": [
    "To explore the Bell state we can prepare an entangled state of two qubits and investigate the different states: \n",
    "\n",
    "* What is the state of the zeroth qubit in the standard basis?\n",
    "* What is the state of the zeroth qubit in the superposition basis?\n",
    "* What is the state of the first qubit in the standard basis?\n",
    "* What is the state of the first qubit in the superposition basis?\n",
    "* What is the state of both qubits in the standard basis?\n",
    "* What is the state of both qubits in the superposition basis?\n",
    "\n",
    "**NOTE:** Standard basis -> Computational basis"
   ]
  },
  {
   "cell_type": "code",
   "execution_count": 68,
   "id": "4a7fda7e",
   "metadata": {},
   "outputs": [],
   "source": [
    "# custom error classes\n",
    "class InvalidQuantumCircuit(ValueError):\n",
    "    pass\n",
    "\n",
    "class InvalidNumberQubits(InvalidQuantumCircuit):\n",
    "    \"\"\"Raised when the number of qubits is less then zero\"\"\"\n",
    "    def __init__(self,number_qubits):\n",
    "        self.number_qubits = number_qubits\n",
    "        self.message = \"Please use one or more qubits\"\n",
    "        super().__init__(self.message)\n",
    "    \n",
    "    def __str__(self):\n",
    "        return f'{self.number_qubits} -> {self.message}'\n",
    "    \n",
    "class InvalidCountsObject(InvalidQuantumCircuit):\n",
    "    \"\"\"Raised when the counts dictionary returned does not have two keys\"\"\"\n",
    "    def __init__(self,counts):\n",
    "        self.counts\n",
    "        self.message = \"The counts dictinary can only have two entries\"\n",
    "        super().__init__(self.message)\n",
    "    \n",
    "    def __str__(self):\n",
    "        return f'{self.counts} -> {self.message}'"
   ]
  },
  {
   "cell_type": "code",
   "execution_count": 131,
   "id": "b6ab9186",
   "metadata": {},
   "outputs": [],
   "source": [
    "from abc import ABCMeta, abstractmethod\n",
    "\n",
    "class Quantum_circuit(metaclass = ABCMeta):\n",
    "    \n",
    "    number_circuits_created = 0\n",
    "    \n",
    "    def __init__(self, number_qubits):\n",
    "        self.set_qubits(number_qubits)\n",
    "        self.__base_circuit_setup()\n",
    "        self.setup_two_qubit_entanglement(self)\n",
    "        self.__class__.number_circuits_created += 1\n",
    "        \n",
    "    def __base_circuit_setup(self):\n",
    "        \"\"\"setups registers for quantum circuit\"\"\"\n",
    "        # register setup\n",
    "        self.qreg_q = QuantumRegister(self.get_qubits(), 'q')\n",
    "        self.creg_c = ClassicalRegister(self.get_qubits(), 'c')\n",
    "        circuit = QuantumCircuit(self.qreg_q, self.creg_c)\n",
    "        self.circuit = circuit\n",
    "        return\n",
    "    \n",
    "    \n",
    "    def set_qubits(self,number_qubits):\n",
    "        if number_qubits <= 0:\n",
    "            raise InvalidNumberQubits(number_qubits)\n",
    "        else: \n",
    "            self.__qubits = number_qubits\n",
    "            \n",
    "    def get_qubits(self):\n",
    "        return self.__qubits\n",
    "        \n",
    "    def draw(self):\n",
    "        self.circuit.draw()\n",
    "        return\n",
    "            \n",
    "    def run_circuit_simulation(self):\n",
    "        self.simulation_results = self.run_circuit(self.circuit)\n",
    "        return self.simulation_results\n",
    "        \n",
    "    @classmethod\n",
    "    def GHZ_circuit(self):\n",
    "        \"\"\"Build circuit for W state measurements\"\"\"\n",
    "        self.set_qubits(3)\n",
    "        self.__base_circuit_setup()\n",
    "        circuit = self.circuit\n",
    "        qreg_q, creg_c = self.qreg_q, self.creg_c\n",
    "\n",
    "        # boilerplate\n",
    "        circuit.reset(qreg_q[0])\n",
    "        circuit.reset(qreg_q[1])\n",
    "        circuit.reset(qreg_q[2])\n",
    "        circuit.ry(1.9106332362490184, qreg_q[0])\n",
    "        circuit.cu(pi/2, pi/2, pi/2, pi/2, qreg_q[0], qreg_q[1])\n",
    "        circuit.cx(qreg_q[1], qreg_q[2])\n",
    "        circuit.cx(qreg_q[0], qreg_q[1])\n",
    "        circuit.x(qreg_q[0])\n",
    "\n",
    "        # measurement\n",
    "        circuit.measure(qreg_q[0], creg_c[0])\n",
    "        circuit.measure(qreg_q[1], creg_c[1])\n",
    "        circuit.measure(qreg_q[2], creg_c[2])\n",
    "        return\n",
    "        \n",
    "    @abstractmethod\n",
    "    def circuit_setup(self):\n",
    "        pass\n",
    "        \n",
    "    @staticmethod\n",
    "    def run_circuit(circuit):\n",
    "        \"\"\"Run the simulation on a circuit object\"\"\"\n",
    "        backend = BasicAer.get_backend('qasm_simulator')\n",
    "        job = execute(circuit, backend)\n",
    "        return job\n",
    "        \n",
    "    @staticmethod\n",
    "    def calculate_probabilities(counts):\n",
    "        \"\"\"calculate proabability of binary outcomes\"\"\"\n",
    "        try: \n",
    "            x, y = counts\n",
    "            probability_function = lambda x,y : x/(x+y), y/(x+y)\n",
    "            return probability_function(x[1], y[1])\n",
    "        \n",
    "        except InvalidQuantumCircuit as err:\n",
    "            self.handle_err(err)\n",
    "    \n",
    "    @staticmethod\n",
    "    def setup_two_qubit_entanglement(Quantum_circuit):\n",
    "        \"\"\"setups two qubit entanglement\"\"\"\n",
    "        circuit = Quantum_circuit.circuit\n",
    "        qreg_q, creg_c = Quantum_circuit.qreg_q, Quantum_circuit.creg_c\n",
    "        # bell state entanglement\n",
    "        circuit.reset(qreg_q[0])\n",
    "        circuit.h(qreg_q[0])\n",
    "        circuit.reset(qreg_q[1])\n",
    "        circuit.cx(qreg_q[0], qreg_q[1])  \n",
    "        return\n",
    "    \n",
    "    @staticmethod\n",
    "    def handle_err(err):\n",
    "        raise err"
   ]
  },
  {
   "cell_type": "code",
   "execution_count": 132,
   "id": "334ec43e",
   "metadata": {},
   "outputs": [],
   "source": [
    "class Zq0_circuit(Quantum_circuit):\n",
    "    \"\"\"Constructs the circuit for the z-measurement on qubit-0\"\"\"\n",
    "    def __init__(self, *args, **kwargs):\n",
    "        super().__init__(*args, **kwargs)\n",
    "        self.circuit_setup()\n",
    "        \n",
    "    def circuit_setup(self):\n",
    "        qreg_q, creg_c = self.qreg_q, self.creg_c\n",
    "        self.circuit.measure(qreg_q[0], creg_c[0])\n",
    "    \n",
    "\n",
    "class Xq0_circuit(Quantum_circuit):\n",
    "    \"\"\"Constructs the circuit for the x-measurement on qubit-0\"\"\"\n",
    "    def __init__(self, *args, **kwargs):\n",
    "        super().__init__(*args, **kwargs)\n",
    "        self.circuit_setup()\n",
    "        \n",
    "    def circuit_setup(self):\n",
    "        qreg_q, creg_c = self.qreg_q, self.creg_c\n",
    "        circuit = self.circuit\n",
    "        circuit.h(qreg_q[0])\n",
    "        circuit.measure(qreg_q[0], creg_c[0])\n",
    "    \n",
    "class Zq1_circuit(Quantum_circuit):\n",
    "    \"\"\"Constructs the circuit for the z-measurement on qubit-1\"\"\"\n",
    "    def __init__(self, *args, **kwargs):\n",
    "        super().__init__(*args, **kwargs)\n",
    "        self.circuit_setup()\n",
    "        \n",
    "    def circuit_setup(self):\n",
    "        qreg_q, creg_c = self.qreg_q, self.creg_c\n",
    "        self.circuit.measure(qreg_q[1], creg_c[1])\n",
    "\n",
    "class Xq1_circuit(Quantum_circuit):\n",
    "    \"\"\"Constructs the circuit for the x-measurement on qubit-1\"\"\"\n",
    "    def __init__(self, *args, **kwargs):\n",
    "        super().__init__(*args, **kwargs)\n",
    "        self.circuit_setup()\n",
    "        \n",
    "    def circuit_setup(self):\n",
    "        qreg_q, creg_c = self.qreg_q, self.creg_c\n",
    "        circuit = self.circuit\n",
    "        circuit.h(qreg_q[1])\n",
    "        circuit.measure(qreg_q[1], creg_c[1])\n",
    "\n",
    "class ZZ_circuit(Quantum_circuit):\n",
    "    \"\"\"Constructs the circuit for the zz-measurement on both qubits\"\"\"\n",
    "    def __init__(self, *args, **kwargs):\n",
    "        super().__init__(*args, **kwargs)\n",
    "        self.circuit_setup()\n",
    "        \n",
    "    def circuit_setup(self):\n",
    "        qreg_q, creg_c = self.qreg_q, self.creg_c\n",
    "        self.circuit.measure(qreg_q[0], creg_c[0])\n",
    "        self.circuit.measure(qreg_q[1], creg_c[1])\n",
    "        \n",
    "\n",
    "class XX_circuit(Quantum_circuit):\n",
    "    \"\"\"Constructs the circuit for the xx-measurement on both qubits\"\"\"\n",
    "    def __init__(self, *args, **kwargs):\n",
    "        super().__init__(*args, **kwargs)\n",
    "        self.circuit_setup()\n",
    "        \n",
    "    def circuit_setup(self):\n",
    "        qreg_q, creg_c = self.qreg_q, self.creg_c\n",
    "        circuit = self.circuit\n",
    "        circuit.h(qreg_q[0])\n",
    "        circuit.h(qreg_q[1])\n",
    "        circuit.measure(qreg_q[0], creg_c[0])\n",
    "        circuit.measure(qreg_q[1], creg_c[1])"
   ]
  },
  {
   "cell_type": "markdown",
   "id": "7ba0c102",
   "metadata": {},
   "source": [
    "___\n",
    "## Measurements on qubit 0\n",
    "### Bell state + z-measurement on qubit 0\n",
    "\n",
    "![image](../md_images/Bell12.png)"
   ]
  },
  {
   "cell_type": "code",
   "execution_count": 123,
   "id": "dbb236ae",
   "metadata": {},
   "outputs": [
    {
     "data": {
      "image/png": "[encoded data removed]",
      "text/plain": [
       "<Figure size 504x360 with 1 Axes>"
      ]
     },
     "execution_count": 123,
     "metadata": {},
     "output_type": "execute_result"
    }
   ],
   "source": [
    "c = Zq0_circuit(2)\n",
    "job = c.run_circuit_simulation()\n",
    "plot_histogram(job.result().get_counts(), color='midnightblue', title=\"Bell state and z-measurement on qubit 0\")"
   ]
  },
  {
   "cell_type": "markdown",
   "id": "4458f254",
   "metadata": {},
   "source": [
    "Half the time $q_0$ is in $|0>$ and the other half it is in the $|1>$ state. This seems to mimick the behaviour that we saw in the superposition of a single qubit using the **computational basis**. In the next experiment we measure $q_0$ in the **superposition basis**. "
   ]
  },
  {
   "cell_type": "markdown",
   "id": "8d38ac03",
   "metadata": {},
   "source": [
    "### Bell state + x-measurement on qubit 0\n",
    "\n",
    "![image](../md_images/Bell22.png)"
   ]
  },
  {
   "cell_type": "code",
   "execution_count": 124,
   "id": "bd399e9a",
   "metadata": {},
   "outputs": [
    {
     "data": {
      "image/png": "[encoded data removed]",
      "text/plain": [
       "<Figure size 504x360 with 1 Axes>"
      ]
     },
     "execution_count": 124,
     "metadata": {},
     "output_type": "execute_result"
    }
   ],
   "source": [
    "c = Xq0_circuit(2)\n",
    "job = c.run_circuit_simulation()\n",
    "plot_histogram(job.result().get_counts(), color='midnightblue', title=\"Bell state and x-measurement on qubit 0\")"
   ]
  },
  {
   "cell_type": "markdown",
   "id": "05501ec9",
   "metadata": {},
   "source": [
    "We see that even in the **superposition basis** the result is still random. This tells us **we know nothing about $q_0$**. "
   ]
  },
  {
   "cell_type": "markdown",
   "id": "c99d6ba1",
   "metadata": {},
   "source": [
    "___\n",
    "## Measurments on qubit 1\n",
    "### Bell state + z-measurement on qubit 1\n",
    "\n",
    "![image](../md_images/Bell32.png)"
   ]
  },
  {
   "cell_type": "code",
   "execution_count": 125,
   "id": "bd7bbe0b",
   "metadata": {},
   "outputs": [
    {
     "data": {
      "image/png": "[encoded data removed]",
      "text/plain": [
       "<Figure size 504x360 with 1 Axes>"
      ]
     },
     "execution_count": 125,
     "metadata": {},
     "output_type": "execute_result"
    }
   ],
   "source": [
    "# simulation results\n",
    "c = Zq1_circuit(2)\n",
    "job = c.run_circuit_simulation()\n",
    "plot_histogram(job.result().get_counts(), color='midnightblue', title=\"Bell state and z-measurement on qubit 1\")"
   ]
  },
  {
   "cell_type": "markdown",
   "id": "db046bb1",
   "metadata": {},
   "source": [
    "This experiment shows that in the **computational basis** we know nothing about $q_1$. "
   ]
  },
  {
   "cell_type": "markdown",
   "id": "a379c50d",
   "metadata": {},
   "source": [
    "### Bell state + x-measurement on qubit 1\n",
    "\n",
    "![image](../md_images/Bell42.png)"
   ]
  },
  {
   "cell_type": "code",
   "execution_count": 126,
   "id": "630872ac",
   "metadata": {},
   "outputs": [
    {
     "data": {
      "image/png": "[encoded data removed]",
      "text/plain": [
       "<Figure size 504x360 with 1 Axes>"
      ]
     },
     "execution_count": 126,
     "metadata": {},
     "output_type": "execute_result"
    }
   ],
   "source": [
    "# simulation results \n",
    "c = Xq1_circuit(2)\n",
    "job = c.run_circuit_simulation()\n",
    "plot_histogram(job.result().get_counts(), color='midnightblue', title=\"Bell state and x-measurement on qubit 1\")"
   ]
  },
  {
   "cell_type": "markdown",
   "id": "601303f3",
   "metadata": {},
   "source": [
    "In the **superposition basis**, just like the computational basis, we know nothing about $q_1$."
   ]
  },
  {
   "cell_type": "markdown",
   "id": "6c31c303",
   "metadata": {},
   "source": [
    "___\n",
    "## Measurements on both qubits\n",
    "### Bell state + zz-measurement on qubits\n",
    "\n",
    "![image](../md_images/Bell52.png)"
   ]
  },
  {
   "cell_type": "code",
   "execution_count": 127,
   "id": "b38da1b1",
   "metadata": {},
   "outputs": [
    {
     "data": {
      "image/png": "[encoded data removed]",
      "text/plain": [
       "<Figure size 504x360 with 1 Axes>"
      ]
     },
     "execution_count": 127,
     "metadata": {},
     "output_type": "execute_result"
    }
   ],
   "source": [
    "# simulation results\n",
    "c = ZZ_circuit(2)\n",
    "job = c.run_circuit_simulation()\n",
    "plot_histogram(job.result().get_counts(), color='midnightblue', title=\"Bell state and zz-measurement on qubits\")"
   ]
  },
  {
   "cell_type": "markdown",
   "id": "b47db05e",
   "metadata": {},
   "source": [
    "Here we see that with high probability, if $q_0$ is in state 0, $q_1$ will be in 0 as well; the same goes if $q_0$ is in state 1. They are perfectly correlated.\n",
    "Note that two of the basis states are missing $|10>$ and $|01>$."
   ]
  },
  {
   "cell_type": "markdown",
   "id": "378e11f9",
   "metadata": {},
   "source": [
    "### Bell state + xx-measurement on qubits\n",
    "\n",
    "![image](../md_images/Bell62.png)"
   ]
  },
  {
   "cell_type": "code",
   "execution_count": 128,
   "id": "fb1b4669",
   "metadata": {},
   "outputs": [
    {
     "data": {
      "image/png": "[encoded data removed]",
      "text/plain": [
       "<Figure size 504x360 with 1 Axes>"
      ]
     },
     "execution_count": 128,
     "metadata": {},
     "output_type": "execute_result"
    }
   ],
   "source": [
    "# simulation results \n",
    "c = XX_circuit(2)\n",
    "job = c.run_circuit_simulation()\n",
    "plot_histogram(job.result().get_counts(), color='midnightblue', title=\"Bell state and xx-measurement on qubits\")"
   ]
  },
  {
   "cell_type": "markdown",
   "id": "52afa9d5",
   "metadata": {},
   "source": [
    "Here we see that even in another basis the system also has **perfect correlations (accounting for experimental noise)**. Therefore, if $q_0$ is measured in state $|0>$, we know that $q_1$ is in this state as well; likewise, if $q_0$ is measured in state $|+>$, we know $q_1$ is also in this state."
   ]
  },
  {
   "cell_type": "markdown",
   "id": "f7cfe15a",
   "metadata": {},
   "source": [
    "___\n",
    "## GHZ states\n",
    "\n",
    "Perhaps even stranger than Bell states are their three-qubit generalization, the *GHZ states.* An example of a GHZ state is: \n",
    "\n",
    "$$\n",
    "|\\psi> = \\frac{1}{\\sqrt{2}}(|000> + |111>) \n",
    "$$\n",
    "\n",
    "A GHZ state can be constructed using the circuit below: \n",
    "\n",
    "![image](../md_images/ghz-circ4.png)"
   ]
  },
  {
   "cell_type": "code",
   "execution_count": 133,
   "id": "f3c8eb98",
   "metadata": {},
   "outputs": [],
   "source": [
    "def build_GHZ_circuit():\n",
    "    \"\"\"Builds a GHZ circuit\"\"\"\n",
    "    qreg_q = QuantumRegister(3, 'q')\n",
    "    creg_c = ClassicalRegister(3, 'c')\n",
    "    circuit = QuantumCircuit(qreg_q, creg_c)\n",
    "    \n",
    "    # initialize GHZ states\n",
    "    circuit.reset(qreg_q[0])\n",
    "    circuit.reset(qreg_q[1])\n",
    "    circuit.h(qreg_q[0])\n",
    "    circuit.cx(qreg_q[0], qreg_q[1])\n",
    "    circuit.reset(qreg_q[2])\n",
    "    circuit.cx(qreg_q[0], qreg_q[2])\n",
    "    \n",
    "    # measure qubits\n",
    "    circuit.measure(qreg_q[0], creg_c[0])\n",
    "    circuit.measure(qreg_q[1], creg_c[1])\n",
    "    circuit.measure(qreg_q[2], creg_c[2])\n",
    "    \n",
    "    return circuit"
   ]
  },
  {
   "cell_type": "code",
   "execution_count": 134,
   "id": "9373dd62",
   "metadata": {},
   "outputs": [],
   "source": [
    "# build and run GHZ circuit\n",
    "c = build_GHZ_circuit()"
   ]
  },
  {
   "cell_type": "code",
   "execution_count": 135,
   "id": "a1172257",
   "metadata": {},
   "outputs": [
    {
     "data": {
      "image/png": "[encoded data removed]",
      "text/plain": [
       "<Figure size 504x360 with 1 Axes>"
      ]
     },
     "execution_count": 135,
     "metadata": {},
     "output_type": "execute_result"
    }
   ],
   "source": [
    "job = Quantum_circuit.run_circuit(c)\n",
    "plot_histogram(job.result().get_counts(), color='midnightblue', title=\"GHZ state measurement\")"
   ]
  },
  {
   "cell_type": "markdown",
   "id": "aaa33b8e",
   "metadata": {},
   "source": [
    "___\n",
    "## W states vs. GHZ states\n",
    "\n",
    "W states are another way to entangle 3 qubits. Compared to GHZ states they are more robustly entangled when a qubit is lost. Comparing the two different entangled states: \n",
    "\n",
    "$$\n",
    "\\begin{align*}\n",
    "|GHZ_3> &= \\frac{1}{\\sqrt{2}}(|000> + |111>) \\\\\n",
    "|W_3> &= \\frac{1}{\\sqrt{3}}(|010> + |100>) \n",
    "\\end{align*}\n",
    "$$\n",
    "\n",
    "### GHZ states\n",
    "\n",
    "If we start with the $|GHZ_3>$ state and **lose a qubit by measuring it** the states will be no longer entangled. The resulting output $|\\psi_{m}^{GHZ}>$ depends on the outcome **$m$**. The outcome **$m$** is uniformily random. The resulting state is either: \n",
    "\n",
    "$$\n",
    "\\begin{align*}\n",
    "|\\psi_{0}^{GHZ}> &= |00> \\\\\n",
    "& OR \\\\\n",
    "|\\psi_{1}^{GHZ}> &= |11> \\\\\n",
    "\\end{align*}\n",
    "$$\n",
    "\n",
    "Which means neither the states are no longer entangled after one qubit is measured.\n",
    "\n",
    "### W states\n",
    "\n",
    "If we start with a $|W_3>$ state and measure one qubit there is a chance that the resulting state can be maximally entangled. Again the resulting state, $|\\psi_{m}^{W}>$, depends on the measurement outcome **$m$**. \n",
    "\n",
    "Outcome **$m$** is 0 two-thirds of the time and 1 the rest of the time. The resulting state is either: \n",
    "\n",
    "$$\n",
    "\\begin{align*}\n",
    "|\\psi_{0}^{W}> &= \\frac{1}{\\sqrt{2}}(|01> + |10>) \\\\\n",
    "&OR\\\\ \n",
    "|\\psi_{1}^{W}> &= |00> \\\\\n",
    "\\end{align*}\n",
    "$$\n",
    "\n",
    "Although $|\\psi_{1}^{W}>$ is **not entangled**, $|\\psi_{0}^{W}>$ is a **maximally entangled** state of two qubits. This is also known as the **residual entanglement**. This resulting state can actually be used to teleport a qubit two-thirds of the time which will be discussed in the section on teleportation."
   ]
  },
  {
   "cell_type": "markdown",
   "id": "63ab1317",
   "metadata": {},
   "source": [
    "## Constructing a W-state\n",
    "\n",
    "Below is an example of a circuit that can entangle three qubits in an entangled W state:\n",
    "\n",
    "![image](../md_images/circuit-w2.png)"
   ]
  },
  {
   "cell_type": "code",
   "execution_count": 136,
   "id": "c1544a6a",
   "metadata": {
    "tags": []
   },
   "outputs": [],
   "source": [
    "def build_W_circuit():\n",
    "    \"\"\"Build circuit for W state measurements\"\"\"\n",
    "    qreg_q = QuantumRegister(3, 'q')\n",
    "    creg_c = ClassicalRegister(3, 'c')\n",
    "    circuit = QuantumCircuit(qreg_q, creg_c)\n",
    "\n",
    "    # boilerplate\n",
    "    circuit.reset(qreg_q[0])\n",
    "    circuit.reset(qreg_q[1])\n",
    "    circuit.reset(qreg_q[2])\n",
    "    circuit.ry(1.9106332362490184, qreg_q[0])\n",
    "    circuit.cu(pi/2, pi/2, pi/2, pi/2, qreg_q[0], qreg_q[1])\n",
    "    circuit.cx(qreg_q[1], qreg_q[2])\n",
    "    circuit.cx(qreg_q[0], qreg_q[1])\n",
    "    circuit.x(qreg_q[0])\n",
    "    \n",
    "    # measurement\n",
    "    circuit.measure(qreg_q[0], creg_c[0])\n",
    "    circuit.measure(qreg_q[1], creg_c[1])\n",
    "    circuit.measure(qreg_q[2], creg_c[2])\n",
    "    return circuit"
   ]
  },
  {
   "cell_type": "code",
   "execution_count": 137,
   "id": "19680297",
   "metadata": {},
   "outputs": [],
   "source": [
    "# build and run GHZ circuit\n",
    "c = build_W_circuit()"
   ]
  },
  {
   "cell_type": "code",
   "execution_count": 138,
   "id": "f3fc6595",
   "metadata": {},
   "outputs": [
    {
     "data": {
      "image/png": "[encoded data removed]",
      "text/plain": [
       "<Figure size 504x360 with 1 Axes>"
      ]
     },
     "execution_count": 138,
     "metadata": {},
     "output_type": "execute_result"
    }
   ],
   "source": [
    "job = Quantum_circuit.run_circuit(c)\n",
    "plot_histogram(job.result().get_counts(), color='midnightblue', title=\"W state measurement\")"
   ]
  },
  {
   "cell_type": "markdown",
   "id": "894e2712",
   "metadata": {},
   "source": [
    "___\n",
    "## Teleportation of qubits"
   ]
  },
  {
   "cell_type": "markdown",
   "id": "4c38360f",
   "metadata": {},
   "source": [
    "Consider the circuit schematic below: \n",
    "\n",
    "![image](../md_images/teleport2.png)\n",
    "\n",
    "The top most outcome **$m$** indicates whether or not the state has been successfully teleported. Also $|\\psi>$ is the input state.\n",
    "\n",
    "If **$m = 0$**, which happens two-thirds of the time then the output state of the circuit is $|\\psi'> = X^{m_z+1}Z^{m_x}|\\psi>$. This means we can look at **$m_z$** and **$m_x$** to **correct the output state to recover the original input state $|\\psi>$**. \n",
    "\n",
    "On the otherhand if **$m = 1$**, which happens one-third of the time, then the output state is $|\\psi'> = |0>$ and **we dont recover the original input state**. \n",
    "\n",
    "If we use a *GHZ state* this same **behaviour will not happen**. \n",
    "\n",
    "Here **Z** refers to the *Pauli-Z gate* and **X** refers to the *Not gate or Pauli-X gate*. \n",
    "\n",
    "\n",
    "### References\n",
    "\n",
    "* Not gate : https://quantum-computing.ibm.com/admin/docs/admin/operations_glossary#not-gate\n",
    "* Pauli-Z gate : https://quantum-computing.ibm.com/admin/docs/admin/operations_glossary#z-gate"
   ]
  },
  {
   "cell_type": "markdown",
   "id": "81c45c54",
   "metadata": {},
   "source": [
    "#### Implementing this idea\n",
    "\n",
    "![image](../md_images/teleporter_implementation.png)"
   ]
  },
  {
   "cell_type": "code",
   "execution_count": 139,
   "id": "80a58733",
   "metadata": {},
   "outputs": [],
   "source": [
    "def build_teleportation_circuit():\n",
    "    \"\"\"A function to build a 4-qubit teleportation\"\"\"\n",
    "    # setting up registers\n",
    "    qreg_q = QuantumRegister(4, 'q')\n",
    "    creg_c = ClassicalRegister(4, 'c')\n",
    "    circuit = QuantumCircuit(qreg_q, creg_c)\n",
    "    \n",
    "    # reset quantum registers\n",
    "    circuit.reset(qreg_q[0])\n",
    "    circuit.reset(qreg_q[1])\n",
    "    circuit.reset(qreg_q[2])\n",
    "    circuit.reset(qreg_q[3])\n",
    "    \n",
    "    # W-state setup\n",
    "    circuit.ry(1.9106332362490184, qreg_q[0])\n",
    "    circuit.h(qreg_q[3])\n",
    "    circuit.cu(pi/2, pi/2, pi/2, pi/2, qreg_q[0], qreg_q[1])\n",
    "    circuit.cx(qreg_q[1], qreg_q[2])\n",
    "    circuit.cx(qreg_q[0], qreg_q[1])\n",
    "    circuit.x(qreg_q[0])\n",
    "    circuit.measure(qreg_q[0], creg_c[0])\n",
    "    \n",
    "    # teleportation setup\n",
    "    circuit.cx(qreg_q[3], qreg_q[2])\n",
    "    circuit.h(qreg_q[2])\n",
    "    circuit.measure(qreg_q[2], creg_c[2])\n",
    "    circuit.measure(qreg_q[3], creg_c[3])\n",
    "    circuit.measure(qreg_q[1], creg_c[1])\n",
    "    \n",
    "    return circuit"
   ]
  }
 ],
 "metadata": {
  "kernelspec": {
   "display_name": "Python 3",
   "language": "python",
   "name": "python3"
  },
  "language_info": {
   "codemirror_mode": {
    "name": "ipython",
    "version": 3
   },
   "file_extension": ".py",
   "mimetype": "text/x-python",
   "name": "python",
   "nbconvert_exporter": "python",
   "pygments_lexer": "ipython3",
   "version": "3.8.8"
  }
 },
 "nbformat": 4,
 "nbformat_minor": 5
}
