{
 "cells": [
  {
   "cell_type": "code",
   "execution_count": 122,
   "id": "ec1e3b1b",
   "metadata": {},
   "outputs": [],
   "source": [
    "import pandas as pd, numpy as np, matplotlib.pyplot as plt"
   ]
  },
  {
   "cell_type": "markdown",
   "id": "cc621439",
   "metadata": {},
   "source": [
    "# IBM QUANTUM COMPUTING FIELD GUIDE NOTES\n",
    "\n",
    "References: https://quantum-computing.ibm.com/composer/docs/guide/ \n",
    "\n",
    "## PRINCIPLES \n",
    "\n",
    "1. A physical system in a definite state can still behave randomly.\n",
    "\n",
    "2. Two systems that are too far apart to influence each other can nevertheless behave in ways that, though individually random, are somehow strongly correlated\n",
    "\n",
    "A quantum computer takes advantage of a special kind of superposition that allows for exponentially many logical states at once\n",
    "\n",
    "The vast majority of quantum superpositions, and the ones most useful for quantum computation, are **entangled**. **Entangled states** are states of the whole computer that do not correspond to any assignment of digital or analog states of the individual qubits. \n",
    "\n",
    "## Contents \n",
    "\n",
    "* Chapter 1 - Qubits and States\n",
    "* Chapter 2 - Creating superpositions with Hadamard gates\n",
    "* Chapter 3 - Quantum Phase and Ramsey quantum circuits\n",
    "* Chapter 4 - Advanced Single Qubit Gates "
   ]
  },
  {
   "cell_type": "markdown",
   "id": "811c2aab",
   "metadata": {},
   "source": [
    "## Notes \n",
    "\n",
    "05/05/21\n",
    "* Remember to use the **inspect option** in the Quantum Composer to investigate the state vector progressing through the quantum circuit.\n",
    "\n",
    "06/05/21\n",
    "* https://quantum-computing.ibm.com/composer/docs/iqx/operations_glossary glossary of quantum gates\n",
    "* The phase disk gives the local state of each qubit at the end of computation\n",
    "* Up to Entanglement section in field guide\n",
    "\n",
    "07/05/21\n",
    "* Rememember the Bloch sphere breaks down in multi-qubit circuits.\n",
    "* Work on updating code to represent more advanced python concepts such as exceptions and higher level functions.\n",
    "* Reached Grover's algorithm section in the field guide"
   ]
  }
 ],
 "metadata": {
  "kernelspec": {
   "display_name": "Python 3",
   "language": "python",
   "name": "python3"
  },
  "language_info": {
   "codemirror_mode": {
    "name": "ipython",
    "version": 3
   },
   "file_extension": ".py",
   "mimetype": "text/x-python",
   "name": "python",
   "nbconvert_exporter": "python",
   "pygments_lexer": "ipython3",
   "version": "3.8.8"
  }
 },
 "nbformat": 4,
 "nbformat_minor": 5
}
